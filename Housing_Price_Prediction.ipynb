{
  "nbformat": 4,
  "nbformat_minor": 0,
  "metadata": {
    "colab": {
      "provenance": []
    },
    "kernelspec": {
      "name": "python3",
      "display_name": "Python 3"
    },
    "language_info": {
      "name": "python"
    }
  },
  "cells": [
    {
      "cell_type": "markdown",
      "source": [
        "#Housing Price Prediction\n",
        "###Author: Aditya Moon\n",
        "###Project Description:\n",
        "#####In this project, an lgb model is trained to predict housing sale prices in the US based on 9 features: brokered_by (realtor ID), number of beds, number of baths, total acres of the property, city, state, zip code, house size, and days since the house was last sold.\n",
        "#####Goal Metric: Minimize MAE (Mean Absolute Error)\n",
        "\n",
        "\n",
        "---\n",
        "\n",
        "Link to the original dataset: https://www.kaggle.com/datasets/ahmedshahriarsakib/usa-real-estate-dataset"
      ],
      "metadata": {
        "id": "moczTRwYSpxs"
      }
    },
    {
      "cell_type": "markdown",
      "source": [
        "#0. Imports and Settings"
      ],
      "metadata": {
        "id": "f-RWI_VYcMWX"
      }
    },
    {
      "cell_type": "code",
      "source": [
        "import pandas as pd\n",
        "import numpy as np\n",
        "import matplotlib.pyplot as plt\n",
        "import seaborn as sns\n",
        "from datetime import datetime\n",
        "import warnings\n",
        "\n",
        "warnings.filterwarnings(\"ignore\", category=RuntimeWarning, module=\"numpy\")\n",
        "\n",
        "plt.style.use(\"ggplot\")\n",
        "\n",
        "pd.set_option(\"display.width\", 1000)\n",
        "pd.set_option(\"display.expand_frame_repr\", False)\n",
        "pd.options.display.float_format = \"{:.2f}\".format\n",
        "%autosave 60"
      ],
      "metadata": {
        "colab": {
          "base_uri": "https://localhost:8080/",
          "height": 34
        },
        "id": "BHZxnL0zGKxB",
        "outputId": "0b0df48c-304c-4727-df0f-3fd72ba77f1e"
      },
      "execution_count": 70,
      "outputs": [
        {
          "output_type": "display_data",
          "data": {
            "application/javascript": [
              "IPython.notebook.set_autosave_interval(60000)"
            ]
          },
          "metadata": {}
        },
        {
          "output_type": "stream",
          "name": "stdout",
          "text": [
            "Autosaving every 60 seconds\n"
          ]
        }
      ]
    },
    {
      "cell_type": "code",
      "execution_count": 71,
      "metadata": {
        "id": "N8zA7j_UE4bs"
      },
      "outputs": [],
      "source": [
        "try:\n",
        "  df = pd.read_csv(\"realtor-data.zip.csv\")\n",
        "except:\n",
        "  ! pip install psycopg2-binary sqlalchemy pandas numpy matplotlib seaborn pyspark scikit-learn lightgbm kaggle\n",
        "  ! kaggle datasets download \"ahmedshahriarsakib/usa-real-estate-dataset\" --force\n",
        "  ! unzip usa-real-estate-dataset.zip\n",
        "  df = pd.read_csv(\"realtor-data.zip.csv\")"
      ]
    },
    {
      "cell_type": "markdown",
      "source": [
        "#1. General Data Understanding"
      ],
      "metadata": {
        "id": "iLHFTGhAcWUn"
      }
    },
    {
      "cell_type": "code",
      "source": [
        "df.sample(10)"
      ],
      "metadata": {
        "id": "LikbXsbNHvPM",
        "colab": {
          "base_uri": "https://localhost:8080/",
          "height": 363
        },
        "outputId": "28957b37-03ef-4485-a845-8556153e9ced"
      },
      "execution_count": 72,
      "outputs": [
        {
          "output_type": "execute_result",
          "data": {
            "text/plain": [
              "         brokered_by    status     price  bed  bath  acre_lot     street              city         state  zip_code  house_size prev_sold_date\n",
              "435126      22854.00  for_sale 525000.00 2.00  2.00       NaN 1032946.00  New Smyrna Beach       Florida  32169.00      768.00     2020-10-12\n",
              "1974966     57618.00      sold 260990.00 4.00  3.00       NaN 1004802.00        Brookshire         Texas  77423.00     1851.00     2021-12-29\n",
              "974787      98682.00  for_sale 320000.00 4.00  2.00      0.48  635886.00         Pineville     Louisiana  71360.00     2230.00     2013-05-13\n",
              "1293339     23592.00  for_sale 639999.00 3.00  2.00      0.34  802544.00         Idyllwild    California  92549.00     1792.00     2004-09-15\n",
              "690516      51289.00  for_sale 124099.00 4.00  2.00      0.14 1324607.00            Dayton          Ohio  45406.00     1300.00     2017-08-16\n",
              "1569557     22611.00      sold 219900.00 3.00  2.00      0.50   70230.00        Waynesboro  Pennsylvania  17268.00     1104.00     2022-01-21\n",
              "418854      72011.00  for_sale  80000.00  NaN   NaN     10.11 1284878.00             Seale       Alabama  36875.00         NaN            NaN\n",
              "1987232     33745.00      sold 699900.00 4.00  4.00      0.22  864393.00       League City         Texas  77573.00     4444.00     2021-12-06\n",
              "1007520     53177.00  for_sale 170000.00 4.00  3.00      0.15 1691689.00         Mooreland      Oklahoma  73852.00     2267.00     1996-09-03\n",
              "1646758     10437.00      sold 430000.00 2.00  1.00      0.17 1500914.00           Atlanta       Georgia  30316.00         NaN     2022-03-04"
            ],
            "text/html": [
              "\n",
              "  <div id=\"df-54b6c1fa-42c6-4bdc-9495-2c2cefa93a48\" class=\"colab-df-container\">\n",
              "    <div>\n",
              "<style scoped>\n",
              "    .dataframe tbody tr th:only-of-type {\n",
              "        vertical-align: middle;\n",
              "    }\n",
              "\n",
              "    .dataframe tbody tr th {\n",
              "        vertical-align: top;\n",
              "    }\n",
              "\n",
              "    .dataframe thead th {\n",
              "        text-align: right;\n",
              "    }\n",
              "</style>\n",
              "<table border=\"1\" class=\"dataframe\">\n",
              "  <thead>\n",
              "    <tr style=\"text-align: right;\">\n",
              "      <th></th>\n",
              "      <th>brokered_by</th>\n",
              "      <th>status</th>\n",
              "      <th>price</th>\n",
              "      <th>bed</th>\n",
              "      <th>bath</th>\n",
              "      <th>acre_lot</th>\n",
              "      <th>street</th>\n",
              "      <th>city</th>\n",
              "      <th>state</th>\n",
              "      <th>zip_code</th>\n",
              "      <th>house_size</th>\n",
              "      <th>prev_sold_date</th>\n",
              "    </tr>\n",
              "  </thead>\n",
              "  <tbody>\n",
              "    <tr>\n",
              "      <th>435126</th>\n",
              "      <td>22854.00</td>\n",
              "      <td>for_sale</td>\n",
              "      <td>525000.00</td>\n",
              "      <td>2.00</td>\n",
              "      <td>2.00</td>\n",
              "      <td>NaN</td>\n",
              "      <td>1032946.00</td>\n",
              "      <td>New Smyrna Beach</td>\n",
              "      <td>Florida</td>\n",
              "      <td>32169.00</td>\n",
              "      <td>768.00</td>\n",
              "      <td>2020-10-12</td>\n",
              "    </tr>\n",
              "    <tr>\n",
              "      <th>1974966</th>\n",
              "      <td>57618.00</td>\n",
              "      <td>sold</td>\n",
              "      <td>260990.00</td>\n",
              "      <td>4.00</td>\n",
              "      <td>3.00</td>\n",
              "      <td>NaN</td>\n",
              "      <td>1004802.00</td>\n",
              "      <td>Brookshire</td>\n",
              "      <td>Texas</td>\n",
              "      <td>77423.00</td>\n",
              "      <td>1851.00</td>\n",
              "      <td>2021-12-29</td>\n",
              "    </tr>\n",
              "    <tr>\n",
              "      <th>974787</th>\n",
              "      <td>98682.00</td>\n",
              "      <td>for_sale</td>\n",
              "      <td>320000.00</td>\n",
              "      <td>4.00</td>\n",
              "      <td>2.00</td>\n",
              "      <td>0.48</td>\n",
              "      <td>635886.00</td>\n",
              "      <td>Pineville</td>\n",
              "      <td>Louisiana</td>\n",
              "      <td>71360.00</td>\n",
              "      <td>2230.00</td>\n",
              "      <td>2013-05-13</td>\n",
              "    </tr>\n",
              "    <tr>\n",
              "      <th>1293339</th>\n",
              "      <td>23592.00</td>\n",
              "      <td>for_sale</td>\n",
              "      <td>639999.00</td>\n",
              "      <td>3.00</td>\n",
              "      <td>2.00</td>\n",
              "      <td>0.34</td>\n",
              "      <td>802544.00</td>\n",
              "      <td>Idyllwild</td>\n",
              "      <td>California</td>\n",
              "      <td>92549.00</td>\n",
              "      <td>1792.00</td>\n",
              "      <td>2004-09-15</td>\n",
              "    </tr>\n",
              "    <tr>\n",
              "      <th>690516</th>\n",
              "      <td>51289.00</td>\n",
              "      <td>for_sale</td>\n",
              "      <td>124099.00</td>\n",
              "      <td>4.00</td>\n",
              "      <td>2.00</td>\n",
              "      <td>0.14</td>\n",
              "      <td>1324607.00</td>\n",
              "      <td>Dayton</td>\n",
              "      <td>Ohio</td>\n",
              "      <td>45406.00</td>\n",
              "      <td>1300.00</td>\n",
              "      <td>2017-08-16</td>\n",
              "    </tr>\n",
              "    <tr>\n",
              "      <th>1569557</th>\n",
              "      <td>22611.00</td>\n",
              "      <td>sold</td>\n",
              "      <td>219900.00</td>\n",
              "      <td>3.00</td>\n",
              "      <td>2.00</td>\n",
              "      <td>0.50</td>\n",
              "      <td>70230.00</td>\n",
              "      <td>Waynesboro</td>\n",
              "      <td>Pennsylvania</td>\n",
              "      <td>17268.00</td>\n",
              "      <td>1104.00</td>\n",
              "      <td>2022-01-21</td>\n",
              "    </tr>\n",
              "    <tr>\n",
              "      <th>418854</th>\n",
              "      <td>72011.00</td>\n",
              "      <td>for_sale</td>\n",
              "      <td>80000.00</td>\n",
              "      <td>NaN</td>\n",
              "      <td>NaN</td>\n",
              "      <td>10.11</td>\n",
              "      <td>1284878.00</td>\n",
              "      <td>Seale</td>\n",
              "      <td>Alabama</td>\n",
              "      <td>36875.00</td>\n",
              "      <td>NaN</td>\n",
              "      <td>NaN</td>\n",
              "    </tr>\n",
              "    <tr>\n",
              "      <th>1987232</th>\n",
              "      <td>33745.00</td>\n",
              "      <td>sold</td>\n",
              "      <td>699900.00</td>\n",
              "      <td>4.00</td>\n",
              "      <td>4.00</td>\n",
              "      <td>0.22</td>\n",
              "      <td>864393.00</td>\n",
              "      <td>League City</td>\n",
              "      <td>Texas</td>\n",
              "      <td>77573.00</td>\n",
              "      <td>4444.00</td>\n",
              "      <td>2021-12-06</td>\n",
              "    </tr>\n",
              "    <tr>\n",
              "      <th>1007520</th>\n",
              "      <td>53177.00</td>\n",
              "      <td>for_sale</td>\n",
              "      <td>170000.00</td>\n",
              "      <td>4.00</td>\n",
              "      <td>3.00</td>\n",
              "      <td>0.15</td>\n",
              "      <td>1691689.00</td>\n",
              "      <td>Mooreland</td>\n",
              "      <td>Oklahoma</td>\n",
              "      <td>73852.00</td>\n",
              "      <td>2267.00</td>\n",
              "      <td>1996-09-03</td>\n",
              "    </tr>\n",
              "    <tr>\n",
              "      <th>1646758</th>\n",
              "      <td>10437.00</td>\n",
              "      <td>sold</td>\n",
              "      <td>430000.00</td>\n",
              "      <td>2.00</td>\n",
              "      <td>1.00</td>\n",
              "      <td>0.17</td>\n",
              "      <td>1500914.00</td>\n",
              "      <td>Atlanta</td>\n",
              "      <td>Georgia</td>\n",
              "      <td>30316.00</td>\n",
              "      <td>NaN</td>\n",
              "      <td>2022-03-04</td>\n",
              "    </tr>\n",
              "  </tbody>\n",
              "</table>\n",
              "</div>\n",
              "    <div class=\"colab-df-buttons\">\n",
              "\n",
              "  <div class=\"colab-df-container\">\n",
              "    <button class=\"colab-df-convert\" onclick=\"convertToInteractive('df-54b6c1fa-42c6-4bdc-9495-2c2cefa93a48')\"\n",
              "            title=\"Convert this dataframe to an interactive table.\"\n",
              "            style=\"display:none;\">\n",
              "\n",
              "  <svg xmlns=\"http://www.w3.org/2000/svg\" height=\"24px\" viewBox=\"0 -960 960 960\">\n",
              "    <path d=\"M120-120v-720h720v720H120Zm60-500h600v-160H180v160Zm220 220h160v-160H400v160Zm0 220h160v-160H400v160ZM180-400h160v-160H180v160Zm440 0h160v-160H620v160ZM180-180h160v-160H180v160Zm440 0h160v-160H620v160Z\"/>\n",
              "  </svg>\n",
              "    </button>\n",
              "\n",
              "  <style>\n",
              "    .colab-df-container {\n",
              "      display:flex;\n",
              "      gap: 12px;\n",
              "    }\n",
              "\n",
              "    .colab-df-convert {\n",
              "      background-color: #E8F0FE;\n",
              "      border: none;\n",
              "      border-radius: 50%;\n",
              "      cursor: pointer;\n",
              "      display: none;\n",
              "      fill: #1967D2;\n",
              "      height: 32px;\n",
              "      padding: 0 0 0 0;\n",
              "      width: 32px;\n",
              "    }\n",
              "\n",
              "    .colab-df-convert:hover {\n",
              "      background-color: #E2EBFA;\n",
              "      box-shadow: 0px 1px 2px rgba(60, 64, 67, 0.3), 0px 1px 3px 1px rgba(60, 64, 67, 0.15);\n",
              "      fill: #174EA6;\n",
              "    }\n",
              "\n",
              "    .colab-df-buttons div {\n",
              "      margin-bottom: 4px;\n",
              "    }\n",
              "\n",
              "    [theme=dark] .colab-df-convert {\n",
              "      background-color: #3B4455;\n",
              "      fill: #D2E3FC;\n",
              "    }\n",
              "\n",
              "    [theme=dark] .colab-df-convert:hover {\n",
              "      background-color: #434B5C;\n",
              "      box-shadow: 0px 1px 3px 1px rgba(0, 0, 0, 0.15);\n",
              "      filter: drop-shadow(0px 1px 2px rgba(0, 0, 0, 0.3));\n",
              "      fill: #FFFFFF;\n",
              "    }\n",
              "  </style>\n",
              "\n",
              "    <script>\n",
              "      const buttonEl =\n",
              "        document.querySelector('#df-54b6c1fa-42c6-4bdc-9495-2c2cefa93a48 button.colab-df-convert');\n",
              "      buttonEl.style.display =\n",
              "        google.colab.kernel.accessAllowed ? 'block' : 'none';\n",
              "\n",
              "      async function convertToInteractive(key) {\n",
              "        const element = document.querySelector('#df-54b6c1fa-42c6-4bdc-9495-2c2cefa93a48');\n",
              "        const dataTable =\n",
              "          await google.colab.kernel.invokeFunction('convertToInteractive',\n",
              "                                                    [key], {});\n",
              "        if (!dataTable) return;\n",
              "\n",
              "        const docLinkHtml = 'Like what you see? Visit the ' +\n",
              "          '<a target=\"_blank\" href=https://colab.research.google.com/notebooks/data_table.ipynb>data table notebook</a>'\n",
              "          + ' to learn more about interactive tables.';\n",
              "        element.innerHTML = '';\n",
              "        dataTable['output_type'] = 'display_data';\n",
              "        await google.colab.output.renderOutput(dataTable, element);\n",
              "        const docLink = document.createElement('div');\n",
              "        docLink.innerHTML = docLinkHtml;\n",
              "        element.appendChild(docLink);\n",
              "      }\n",
              "    </script>\n",
              "  </div>\n",
              "\n",
              "\n",
              "<div id=\"df-5fbe6bfe-7886-4f2f-bc25-d1361d124690\">\n",
              "  <button class=\"colab-df-quickchart\" onclick=\"quickchart('df-5fbe6bfe-7886-4f2f-bc25-d1361d124690')\"\n",
              "            title=\"Suggest charts\"\n",
              "            style=\"display:none;\">\n",
              "\n",
              "<svg xmlns=\"http://www.w3.org/2000/svg\" height=\"24px\"viewBox=\"0 0 24 24\"\n",
              "     width=\"24px\">\n",
              "    <g>\n",
              "        <path d=\"M19 3H5c-1.1 0-2 .9-2 2v14c0 1.1.9 2 2 2h14c1.1 0 2-.9 2-2V5c0-1.1-.9-2-2-2zM9 17H7v-7h2v7zm4 0h-2V7h2v10zm4 0h-2v-4h2v4z\"/>\n",
              "    </g>\n",
              "</svg>\n",
              "  </button>\n",
              "\n",
              "<style>\n",
              "  .colab-df-quickchart {\n",
              "      --bg-color: #E8F0FE;\n",
              "      --fill-color: #1967D2;\n",
              "      --hover-bg-color: #E2EBFA;\n",
              "      --hover-fill-color: #174EA6;\n",
              "      --disabled-fill-color: #AAA;\n",
              "      --disabled-bg-color: #DDD;\n",
              "  }\n",
              "\n",
              "  [theme=dark] .colab-df-quickchart {\n",
              "      --bg-color: #3B4455;\n",
              "      --fill-color: #D2E3FC;\n",
              "      --hover-bg-color: #434B5C;\n",
              "      --hover-fill-color: #FFFFFF;\n",
              "      --disabled-bg-color: #3B4455;\n",
              "      --disabled-fill-color: #666;\n",
              "  }\n",
              "\n",
              "  .colab-df-quickchart {\n",
              "    background-color: var(--bg-color);\n",
              "    border: none;\n",
              "    border-radius: 50%;\n",
              "    cursor: pointer;\n",
              "    display: none;\n",
              "    fill: var(--fill-color);\n",
              "    height: 32px;\n",
              "    padding: 0;\n",
              "    width: 32px;\n",
              "  }\n",
              "\n",
              "  .colab-df-quickchart:hover {\n",
              "    background-color: var(--hover-bg-color);\n",
              "    box-shadow: 0 1px 2px rgba(60, 64, 67, 0.3), 0 1px 3px 1px rgba(60, 64, 67, 0.15);\n",
              "    fill: var(--button-hover-fill-color);\n",
              "  }\n",
              "\n",
              "  .colab-df-quickchart-complete:disabled,\n",
              "  .colab-df-quickchart-complete:disabled:hover {\n",
              "    background-color: var(--disabled-bg-color);\n",
              "    fill: var(--disabled-fill-color);\n",
              "    box-shadow: none;\n",
              "  }\n",
              "\n",
              "  .colab-df-spinner {\n",
              "    border: 2px solid var(--fill-color);\n",
              "    border-color: transparent;\n",
              "    border-bottom-color: var(--fill-color);\n",
              "    animation:\n",
              "      spin 1s steps(1) infinite;\n",
              "  }\n",
              "\n",
              "  @keyframes spin {\n",
              "    0% {\n",
              "      border-color: transparent;\n",
              "      border-bottom-color: var(--fill-color);\n",
              "      border-left-color: var(--fill-color);\n",
              "    }\n",
              "    20% {\n",
              "      border-color: transparent;\n",
              "      border-left-color: var(--fill-color);\n",
              "      border-top-color: var(--fill-color);\n",
              "    }\n",
              "    30% {\n",
              "      border-color: transparent;\n",
              "      border-left-color: var(--fill-color);\n",
              "      border-top-color: var(--fill-color);\n",
              "      border-right-color: var(--fill-color);\n",
              "    }\n",
              "    40% {\n",
              "      border-color: transparent;\n",
              "      border-right-color: var(--fill-color);\n",
              "      border-top-color: var(--fill-color);\n",
              "    }\n",
              "    60% {\n",
              "      border-color: transparent;\n",
              "      border-right-color: var(--fill-color);\n",
              "    }\n",
              "    80% {\n",
              "      border-color: transparent;\n",
              "      border-right-color: var(--fill-color);\n",
              "      border-bottom-color: var(--fill-color);\n",
              "    }\n",
              "    90% {\n",
              "      border-color: transparent;\n",
              "      border-bottom-color: var(--fill-color);\n",
              "    }\n",
              "  }\n",
              "</style>\n",
              "\n",
              "  <script>\n",
              "    async function quickchart(key) {\n",
              "      const quickchartButtonEl =\n",
              "        document.querySelector('#' + key + ' button');\n",
              "      quickchartButtonEl.disabled = true;  // To prevent multiple clicks.\n",
              "      quickchartButtonEl.classList.add('colab-df-spinner');\n",
              "      try {\n",
              "        const charts = await google.colab.kernel.invokeFunction(\n",
              "            'suggestCharts', [key], {});\n",
              "      } catch (error) {\n",
              "        console.error('Error during call to suggestCharts:', error);\n",
              "      }\n",
              "      quickchartButtonEl.classList.remove('colab-df-spinner');\n",
              "      quickchartButtonEl.classList.add('colab-df-quickchart-complete');\n",
              "    }\n",
              "    (() => {\n",
              "      let quickchartButtonEl =\n",
              "        document.querySelector('#df-5fbe6bfe-7886-4f2f-bc25-d1361d124690 button');\n",
              "      quickchartButtonEl.style.display =\n",
              "        google.colab.kernel.accessAllowed ? 'block' : 'none';\n",
              "    })();\n",
              "  </script>\n",
              "</div>\n",
              "\n",
              "    </div>\n",
              "  </div>\n"
            ],
            "application/vnd.google.colaboratory.intrinsic+json": {
              "type": "dataframe",
              "repr_error": "0"
            }
          },
          "metadata": {},
          "execution_count": 72
        }
      ]
    },
    {
      "cell_type": "code",
      "source": [
        "df.shape"
      ],
      "metadata": {
        "id": "SA58DLQHH4Ky",
        "colab": {
          "base_uri": "https://localhost:8080/"
        },
        "outputId": "c0d34acf-fe5b-4e18-d33a-ef932b49d2e5"
      },
      "execution_count": 73,
      "outputs": [
        {
          "output_type": "execute_result",
          "data": {
            "text/plain": [
              "(2226382, 12)"
            ]
          },
          "metadata": {},
          "execution_count": 73
        }
      ]
    },
    {
      "cell_type": "code",
      "source": [
        "df.describe()"
      ],
      "metadata": {
        "id": "y-OwnYeSJ2Ey",
        "colab": {
          "base_uri": "https://localhost:8080/",
          "height": 300
        },
        "outputId": "916c8ba6-09db-4a94-9c31-46d9a0fc6238"
      },
      "execution_count": 74,
      "outputs": [
        {
          "output_type": "execute_result",
          "data": {
            "text/plain": [
              "       brokered_by         price        bed       bath   acre_lot     street   zip_code    house_size\n",
              "count   2221849.00    2224841.00 1745065.00 1714611.00 1900793.00 2215516.00 2226083.00    1657898.00\n",
              "mean      52939.89     524195.52       3.28       2.50      15.22 1012324.92   52186.68       2714.47\n",
              "std       30642.75    2138893.22       1.57       1.65     762.82  583763.48   28954.08     808163.52\n",
              "min           0.00          0.00       1.00       1.00       0.00       0.00       0.00          4.00\n",
              "25%       23861.00     165000.00       3.00       2.00       0.15  506312.75   29617.00       1300.00\n",
              "50%       52884.00     325000.00       3.00       2.00       0.26 1012765.50   48382.00       1760.00\n",
              "75%       79183.00     550000.00       4.00       3.00       0.98 1521173.25   78070.00       2413.00\n",
              "max      110142.00 2147483600.00     473.00     830.00  100000.00 2001357.00   99999.00 1040400400.00"
            ],
            "text/html": [
              "\n",
              "  <div id=\"df-abb48770-e196-4a21-8da0-1e315c8d5d3a\" class=\"colab-df-container\">\n",
              "    <div>\n",
              "<style scoped>\n",
              "    .dataframe tbody tr th:only-of-type {\n",
              "        vertical-align: middle;\n",
              "    }\n",
              "\n",
              "    .dataframe tbody tr th {\n",
              "        vertical-align: top;\n",
              "    }\n",
              "\n",
              "    .dataframe thead th {\n",
              "        text-align: right;\n",
              "    }\n",
              "</style>\n",
              "<table border=\"1\" class=\"dataframe\">\n",
              "  <thead>\n",
              "    <tr style=\"text-align: right;\">\n",
              "      <th></th>\n",
              "      <th>brokered_by</th>\n",
              "      <th>price</th>\n",
              "      <th>bed</th>\n",
              "      <th>bath</th>\n",
              "      <th>acre_lot</th>\n",
              "      <th>street</th>\n",
              "      <th>zip_code</th>\n",
              "      <th>house_size</th>\n",
              "    </tr>\n",
              "  </thead>\n",
              "  <tbody>\n",
              "    <tr>\n",
              "      <th>count</th>\n",
              "      <td>2221849.00</td>\n",
              "      <td>2224841.00</td>\n",
              "      <td>1745065.00</td>\n",
              "      <td>1714611.00</td>\n",
              "      <td>1900793.00</td>\n",
              "      <td>2215516.00</td>\n",
              "      <td>2226083.00</td>\n",
              "      <td>1657898.00</td>\n",
              "    </tr>\n",
              "    <tr>\n",
              "      <th>mean</th>\n",
              "      <td>52939.89</td>\n",
              "      <td>524195.52</td>\n",
              "      <td>3.28</td>\n",
              "      <td>2.50</td>\n",
              "      <td>15.22</td>\n",
              "      <td>1012324.92</td>\n",
              "      <td>52186.68</td>\n",
              "      <td>2714.47</td>\n",
              "    </tr>\n",
              "    <tr>\n",
              "      <th>std</th>\n",
              "      <td>30642.75</td>\n",
              "      <td>2138893.22</td>\n",
              "      <td>1.57</td>\n",
              "      <td>1.65</td>\n",
              "      <td>762.82</td>\n",
              "      <td>583763.48</td>\n",
              "      <td>28954.08</td>\n",
              "      <td>808163.52</td>\n",
              "    </tr>\n",
              "    <tr>\n",
              "      <th>min</th>\n",
              "      <td>0.00</td>\n",
              "      <td>0.00</td>\n",
              "      <td>1.00</td>\n",
              "      <td>1.00</td>\n",
              "      <td>0.00</td>\n",
              "      <td>0.00</td>\n",
              "      <td>0.00</td>\n",
              "      <td>4.00</td>\n",
              "    </tr>\n",
              "    <tr>\n",
              "      <th>25%</th>\n",
              "      <td>23861.00</td>\n",
              "      <td>165000.00</td>\n",
              "      <td>3.00</td>\n",
              "      <td>2.00</td>\n",
              "      <td>0.15</td>\n",
              "      <td>506312.75</td>\n",
              "      <td>29617.00</td>\n",
              "      <td>1300.00</td>\n",
              "    </tr>\n",
              "    <tr>\n",
              "      <th>50%</th>\n",
              "      <td>52884.00</td>\n",
              "      <td>325000.00</td>\n",
              "      <td>3.00</td>\n",
              "      <td>2.00</td>\n",
              "      <td>0.26</td>\n",
              "      <td>1012765.50</td>\n",
              "      <td>48382.00</td>\n",
              "      <td>1760.00</td>\n",
              "    </tr>\n",
              "    <tr>\n",
              "      <th>75%</th>\n",
              "      <td>79183.00</td>\n",
              "      <td>550000.00</td>\n",
              "      <td>4.00</td>\n",
              "      <td>3.00</td>\n",
              "      <td>0.98</td>\n",
              "      <td>1521173.25</td>\n",
              "      <td>78070.00</td>\n",
              "      <td>2413.00</td>\n",
              "    </tr>\n",
              "    <tr>\n",
              "      <th>max</th>\n",
              "      <td>110142.00</td>\n",
              "      <td>2147483600.00</td>\n",
              "      <td>473.00</td>\n",
              "      <td>830.00</td>\n",
              "      <td>100000.00</td>\n",
              "      <td>2001357.00</td>\n",
              "      <td>99999.00</td>\n",
              "      <td>1040400400.00</td>\n",
              "    </tr>\n",
              "  </tbody>\n",
              "</table>\n",
              "</div>\n",
              "    <div class=\"colab-df-buttons\">\n",
              "\n",
              "  <div class=\"colab-df-container\">\n",
              "    <button class=\"colab-df-convert\" onclick=\"convertToInteractive('df-abb48770-e196-4a21-8da0-1e315c8d5d3a')\"\n",
              "            title=\"Convert this dataframe to an interactive table.\"\n",
              "            style=\"display:none;\">\n",
              "\n",
              "  <svg xmlns=\"http://www.w3.org/2000/svg\" height=\"24px\" viewBox=\"0 -960 960 960\">\n",
              "    <path d=\"M120-120v-720h720v720H120Zm60-500h600v-160H180v160Zm220 220h160v-160H400v160Zm0 220h160v-160H400v160ZM180-400h160v-160H180v160Zm440 0h160v-160H620v160ZM180-180h160v-160H180v160Zm440 0h160v-160H620v160Z\"/>\n",
              "  </svg>\n",
              "    </button>\n",
              "\n",
              "  <style>\n",
              "    .colab-df-container {\n",
              "      display:flex;\n",
              "      gap: 12px;\n",
              "    }\n",
              "\n",
              "    .colab-df-convert {\n",
              "      background-color: #E8F0FE;\n",
              "      border: none;\n",
              "      border-radius: 50%;\n",
              "      cursor: pointer;\n",
              "      display: none;\n",
              "      fill: #1967D2;\n",
              "      height: 32px;\n",
              "      padding: 0 0 0 0;\n",
              "      width: 32px;\n",
              "    }\n",
              "\n",
              "    .colab-df-convert:hover {\n",
              "      background-color: #E2EBFA;\n",
              "      box-shadow: 0px 1px 2px rgba(60, 64, 67, 0.3), 0px 1px 3px 1px rgba(60, 64, 67, 0.15);\n",
              "      fill: #174EA6;\n",
              "    }\n",
              "\n",
              "    .colab-df-buttons div {\n",
              "      margin-bottom: 4px;\n",
              "    }\n",
              "\n",
              "    [theme=dark] .colab-df-convert {\n",
              "      background-color: #3B4455;\n",
              "      fill: #D2E3FC;\n",
              "    }\n",
              "\n",
              "    [theme=dark] .colab-df-convert:hover {\n",
              "      background-color: #434B5C;\n",
              "      box-shadow: 0px 1px 3px 1px rgba(0, 0, 0, 0.15);\n",
              "      filter: drop-shadow(0px 1px 2px rgba(0, 0, 0, 0.3));\n",
              "      fill: #FFFFFF;\n",
              "    }\n",
              "  </style>\n",
              "\n",
              "    <script>\n",
              "      const buttonEl =\n",
              "        document.querySelector('#df-abb48770-e196-4a21-8da0-1e315c8d5d3a button.colab-df-convert');\n",
              "      buttonEl.style.display =\n",
              "        google.colab.kernel.accessAllowed ? 'block' : 'none';\n",
              "\n",
              "      async function convertToInteractive(key) {\n",
              "        const element = document.querySelector('#df-abb48770-e196-4a21-8da0-1e315c8d5d3a');\n",
              "        const dataTable =\n",
              "          await google.colab.kernel.invokeFunction('convertToInteractive',\n",
              "                                                    [key], {});\n",
              "        if (!dataTable) return;\n",
              "\n",
              "        const docLinkHtml = 'Like what you see? Visit the ' +\n",
              "          '<a target=\"_blank\" href=https://colab.research.google.com/notebooks/data_table.ipynb>data table notebook</a>'\n",
              "          + ' to learn more about interactive tables.';\n",
              "        element.innerHTML = '';\n",
              "        dataTable['output_type'] = 'display_data';\n",
              "        await google.colab.output.renderOutput(dataTable, element);\n",
              "        const docLink = document.createElement('div');\n",
              "        docLink.innerHTML = docLinkHtml;\n",
              "        element.appendChild(docLink);\n",
              "      }\n",
              "    </script>\n",
              "  </div>\n",
              "\n",
              "\n",
              "<div id=\"df-27eae1d9-4d79-4175-b924-b350aec5213c\">\n",
              "  <button class=\"colab-df-quickchart\" onclick=\"quickchart('df-27eae1d9-4d79-4175-b924-b350aec5213c')\"\n",
              "            title=\"Suggest charts\"\n",
              "            style=\"display:none;\">\n",
              "\n",
              "<svg xmlns=\"http://www.w3.org/2000/svg\" height=\"24px\"viewBox=\"0 0 24 24\"\n",
              "     width=\"24px\">\n",
              "    <g>\n",
              "        <path d=\"M19 3H5c-1.1 0-2 .9-2 2v14c0 1.1.9 2 2 2h14c1.1 0 2-.9 2-2V5c0-1.1-.9-2-2-2zM9 17H7v-7h2v7zm4 0h-2V7h2v10zm4 0h-2v-4h2v4z\"/>\n",
              "    </g>\n",
              "</svg>\n",
              "  </button>\n",
              "\n",
              "<style>\n",
              "  .colab-df-quickchart {\n",
              "      --bg-color: #E8F0FE;\n",
              "      --fill-color: #1967D2;\n",
              "      --hover-bg-color: #E2EBFA;\n",
              "      --hover-fill-color: #174EA6;\n",
              "      --disabled-fill-color: #AAA;\n",
              "      --disabled-bg-color: #DDD;\n",
              "  }\n",
              "\n",
              "  [theme=dark] .colab-df-quickchart {\n",
              "      --bg-color: #3B4455;\n",
              "      --fill-color: #D2E3FC;\n",
              "      --hover-bg-color: #434B5C;\n",
              "      --hover-fill-color: #FFFFFF;\n",
              "      --disabled-bg-color: #3B4455;\n",
              "      --disabled-fill-color: #666;\n",
              "  }\n",
              "\n",
              "  .colab-df-quickchart {\n",
              "    background-color: var(--bg-color);\n",
              "    border: none;\n",
              "    border-radius: 50%;\n",
              "    cursor: pointer;\n",
              "    display: none;\n",
              "    fill: var(--fill-color);\n",
              "    height: 32px;\n",
              "    padding: 0;\n",
              "    width: 32px;\n",
              "  }\n",
              "\n",
              "  .colab-df-quickchart:hover {\n",
              "    background-color: var(--hover-bg-color);\n",
              "    box-shadow: 0 1px 2px rgba(60, 64, 67, 0.3), 0 1px 3px 1px rgba(60, 64, 67, 0.15);\n",
              "    fill: var(--button-hover-fill-color);\n",
              "  }\n",
              "\n",
              "  .colab-df-quickchart-complete:disabled,\n",
              "  .colab-df-quickchart-complete:disabled:hover {\n",
              "    background-color: var(--disabled-bg-color);\n",
              "    fill: var(--disabled-fill-color);\n",
              "    box-shadow: none;\n",
              "  }\n",
              "\n",
              "  .colab-df-spinner {\n",
              "    border: 2px solid var(--fill-color);\n",
              "    border-color: transparent;\n",
              "    border-bottom-color: var(--fill-color);\n",
              "    animation:\n",
              "      spin 1s steps(1) infinite;\n",
              "  }\n",
              "\n",
              "  @keyframes spin {\n",
              "    0% {\n",
              "      border-color: transparent;\n",
              "      border-bottom-color: var(--fill-color);\n",
              "      border-left-color: var(--fill-color);\n",
              "    }\n",
              "    20% {\n",
              "      border-color: transparent;\n",
              "      border-left-color: var(--fill-color);\n",
              "      border-top-color: var(--fill-color);\n",
              "    }\n",
              "    30% {\n",
              "      border-color: transparent;\n",
              "      border-left-color: var(--fill-color);\n",
              "      border-top-color: var(--fill-color);\n",
              "      border-right-color: var(--fill-color);\n",
              "    }\n",
              "    40% {\n",
              "      border-color: transparent;\n",
              "      border-right-color: var(--fill-color);\n",
              "      border-top-color: var(--fill-color);\n",
              "    }\n",
              "    60% {\n",
              "      border-color: transparent;\n",
              "      border-right-color: var(--fill-color);\n",
              "    }\n",
              "    80% {\n",
              "      border-color: transparent;\n",
              "      border-right-color: var(--fill-color);\n",
              "      border-bottom-color: var(--fill-color);\n",
              "    }\n",
              "    90% {\n",
              "      border-color: transparent;\n",
              "      border-bottom-color: var(--fill-color);\n",
              "    }\n",
              "  }\n",
              "</style>\n",
              "\n",
              "  <script>\n",
              "    async function quickchart(key) {\n",
              "      const quickchartButtonEl =\n",
              "        document.querySelector('#' + key + ' button');\n",
              "      quickchartButtonEl.disabled = true;  // To prevent multiple clicks.\n",
              "      quickchartButtonEl.classList.add('colab-df-spinner');\n",
              "      try {\n",
              "        const charts = await google.colab.kernel.invokeFunction(\n",
              "            'suggestCharts', [key], {});\n",
              "      } catch (error) {\n",
              "        console.error('Error during call to suggestCharts:', error);\n",
              "      }\n",
              "      quickchartButtonEl.classList.remove('colab-df-spinner');\n",
              "      quickchartButtonEl.classList.add('colab-df-quickchart-complete');\n",
              "    }\n",
              "    (() => {\n",
              "      let quickchartButtonEl =\n",
              "        document.querySelector('#df-27eae1d9-4d79-4175-b924-b350aec5213c button');\n",
              "      quickchartButtonEl.style.display =\n",
              "        google.colab.kernel.accessAllowed ? 'block' : 'none';\n",
              "    })();\n",
              "  </script>\n",
              "</div>\n",
              "\n",
              "    </div>\n",
              "  </div>\n"
            ],
            "application/vnd.google.colaboratory.intrinsic+json": {
              "type": "dataframe",
              "summary": "{\n  \"name\": \"df\",\n  \"rows\": 8,\n  \"fields\": [\n    {\n      \"column\": \"brokered_by\",\n      \"properties\": {\n        \"dtype\": \"number\",\n        \"std\": 768629.9752810984,\n        \"min\": 0.0,\n        \"max\": 2221849.0,\n        \"num_unique_values\": 8,\n        \"samples\": [\n          52939.89328662749,\n          52884.0,\n          2221849.0\n        ],\n        \"semantic_type\": \"\",\n        \"description\": \"\"\n      }\n    },\n    {\n      \"column\": \"price\",\n      \"properties\": {\n        \"dtype\": \"number\",\n        \"std\": 758951193.154006,\n        \"min\": 0.0,\n        \"max\": 2147483600.0,\n        \"num_unique_values\": 8,\n        \"samples\": [\n          524195.5192906774,\n          325000.0,\n          2224841.0\n        ],\n        \"semantic_type\": \"\",\n        \"description\": \"\"\n      }\n    },\n    {\n      \"column\": \"bed\",\n      \"properties\": {\n        \"dtype\": \"number\",\n        \"std\": 616948.9792056988,\n        \"min\": 1.0,\n        \"max\": 1745065.0,\n        \"num_unique_values\": 7,\n        \"samples\": [\n          1745065.0,\n          3.2758407279958055,\n          4.0\n        ],\n        \"semantic_type\": \"\",\n        \"description\": \"\"\n      }\n    },\n    {\n      \"column\": \"bath\",\n      \"properties\": {\n        \"dtype\": \"number\",\n        \"std\": 606164.0668923962,\n        \"min\": 1.0,\n        \"max\": 1714611.0,\n        \"num_unique_values\": 7,\n        \"samples\": [\n          1714611.0,\n          2.496440300452989,\n          3.0\n        ],\n        \"semantic_type\": \"\",\n        \"description\": \"\"\n      }\n    },\n    {\n      \"column\": \"acre_lot\",\n      \"properties\": {\n        \"dtype\": \"number\",\n        \"std\": 667856.708700884,\n        \"min\": 0.0,\n        \"max\": 1900793.0,\n        \"num_unique_values\": 8,\n        \"samples\": [\n          15.223027446965554,\n          0.26,\n          1900793.0\n        ],\n        \"semantic_type\": \"\",\n        \"description\": \"\"\n      }\n    },\n    {\n      \"column\": \"street\",\n      \"properties\": {\n        \"dtype\": \"number\",\n        \"std\": 763274.4139834517,\n        \"min\": 0.0,\n        \"max\": 2215516.0,\n        \"num_unique_values\": 8,\n        \"samples\": [\n          1012324.9206654341,\n          1012765.5,\n          2215516.0\n        ],\n        \"semantic_type\": \"\",\n        \"description\": \"\"\n      }\n    },\n    {\n      \"column\": \"zip_code\",\n      \"properties\": {\n        \"dtype\": \"number\",\n        \"std\": 770622.3773379676,\n        \"min\": 0.0,\n        \"max\": 2226083.0,\n        \"num_unique_values\": 8,\n        \"samples\": [\n          52186.67634135834,\n          48382.0,\n          2226083.0\n        ],\n        \"semantic_type\": \"\",\n        \"description\": \"\"\n      }\n    },\n    {\n      \"column\": \"house_size\",\n      \"properties\": {\n        \"dtype\": \"number\",\n        \"std\": 367712611.26063085,\n        \"min\": 4.0,\n        \"max\": 1040400400.0,\n        \"num_unique_values\": 8,\n        \"samples\": [\n          2714.471334786579,\n          1760.0,\n          1657898.0\n        ],\n        \"semantic_type\": \"\",\n        \"description\": \"\"\n      }\n    }\n  ]\n}"
            }
          },
          "metadata": {},
          "execution_count": 74
        }
      ]
    },
    {
      "cell_type": "code",
      "source": [
        "df.nunique()"
      ],
      "metadata": {
        "id": "wEqy4A4HJ6Ij",
        "colab": {
          "base_uri": "https://localhost:8080/",
          "height": 460
        },
        "outputId": "43b32458-c630-462b-f4e3-8b62f8e24ed6"
      },
      "execution_count": 75,
      "outputs": [
        {
          "output_type": "execute_result",
          "data": {
            "text/plain": [
              "brokered_by        110143\n",
              "status                  3\n",
              "price              102137\n",
              "bed                    99\n",
              "bath                   86\n",
              "acre_lot            16057\n",
              "street            2001358\n",
              "city                20098\n",
              "state                  55\n",
              "zip_code            30334\n",
              "house_size          12061\n",
              "prev_sold_date      14954\n",
              "dtype: int64"
            ],
            "text/html": [
              "<div>\n",
              "<style scoped>\n",
              "    .dataframe tbody tr th:only-of-type {\n",
              "        vertical-align: middle;\n",
              "    }\n",
              "\n",
              "    .dataframe tbody tr th {\n",
              "        vertical-align: top;\n",
              "    }\n",
              "\n",
              "    .dataframe thead th {\n",
              "        text-align: right;\n",
              "    }\n",
              "</style>\n",
              "<table border=\"1\" class=\"dataframe\">\n",
              "  <thead>\n",
              "    <tr style=\"text-align: right;\">\n",
              "      <th></th>\n",
              "      <th>0</th>\n",
              "    </tr>\n",
              "  </thead>\n",
              "  <tbody>\n",
              "    <tr>\n",
              "      <th>brokered_by</th>\n",
              "      <td>110143</td>\n",
              "    </tr>\n",
              "    <tr>\n",
              "      <th>status</th>\n",
              "      <td>3</td>\n",
              "    </tr>\n",
              "    <tr>\n",
              "      <th>price</th>\n",
              "      <td>102137</td>\n",
              "    </tr>\n",
              "    <tr>\n",
              "      <th>bed</th>\n",
              "      <td>99</td>\n",
              "    </tr>\n",
              "    <tr>\n",
              "      <th>bath</th>\n",
              "      <td>86</td>\n",
              "    </tr>\n",
              "    <tr>\n",
              "      <th>acre_lot</th>\n",
              "      <td>16057</td>\n",
              "    </tr>\n",
              "    <tr>\n",
              "      <th>street</th>\n",
              "      <td>2001358</td>\n",
              "    </tr>\n",
              "    <tr>\n",
              "      <th>city</th>\n",
              "      <td>20098</td>\n",
              "    </tr>\n",
              "    <tr>\n",
              "      <th>state</th>\n",
              "      <td>55</td>\n",
              "    </tr>\n",
              "    <tr>\n",
              "      <th>zip_code</th>\n",
              "      <td>30334</td>\n",
              "    </tr>\n",
              "    <tr>\n",
              "      <th>house_size</th>\n",
              "      <td>12061</td>\n",
              "    </tr>\n",
              "    <tr>\n",
              "      <th>prev_sold_date</th>\n",
              "      <td>14954</td>\n",
              "    </tr>\n",
              "  </tbody>\n",
              "</table>\n",
              "</div><br><label><b>dtype:</b> int64</label>"
            ]
          },
          "metadata": {},
          "execution_count": 75
        }
      ]
    },
    {
      "cell_type": "markdown",
      "source": [
        "I wonder what the ratio between baths to beds is for our df..."
      ],
      "metadata": {
        "id": "W9SQ2L793kFo"
      }
    },
    {
      "cell_type": "code",
      "source": [
        "x = df[\"bath\"]/df[\"bed\"]\n",
        "x.mean()"
      ],
      "metadata": {
        "id": "PsIFP-f4J3yC",
        "colab": {
          "base_uri": "https://localhost:8080/"
        },
        "outputId": "d9daad21-d228-4b37-c252-16aebfa5c76e"
      },
      "execution_count": 76,
      "outputs": [
        {
          "output_type": "execute_result",
          "data": {
            "text/plain": [
              "0.7900594393639737"
            ]
          },
          "metadata": {},
          "execution_count": 76
        }
      ]
    },
    {
      "cell_type": "code",
      "source": [
        "df.dtypes"
      ],
      "metadata": {
        "colab": {
          "base_uri": "https://localhost:8080/",
          "height": 460
        },
        "id": "IvM5Oo7ikZow",
        "outputId": "6a013368-35ad-4499-9d99-68f5341ea0c1"
      },
      "execution_count": 77,
      "outputs": [
        {
          "output_type": "execute_result",
          "data": {
            "text/plain": [
              "brokered_by       float64\n",
              "status             object\n",
              "price             float64\n",
              "bed               float64\n",
              "bath              float64\n",
              "acre_lot          float64\n",
              "street            float64\n",
              "city               object\n",
              "state              object\n",
              "zip_code          float64\n",
              "house_size        float64\n",
              "prev_sold_date     object\n",
              "dtype: object"
            ],
            "text/html": [
              "<div>\n",
              "<style scoped>\n",
              "    .dataframe tbody tr th:only-of-type {\n",
              "        vertical-align: middle;\n",
              "    }\n",
              "\n",
              "    .dataframe tbody tr th {\n",
              "        vertical-align: top;\n",
              "    }\n",
              "\n",
              "    .dataframe thead th {\n",
              "        text-align: right;\n",
              "    }\n",
              "</style>\n",
              "<table border=\"1\" class=\"dataframe\">\n",
              "  <thead>\n",
              "    <tr style=\"text-align: right;\">\n",
              "      <th></th>\n",
              "      <th>0</th>\n",
              "    </tr>\n",
              "  </thead>\n",
              "  <tbody>\n",
              "    <tr>\n",
              "      <th>brokered_by</th>\n",
              "      <td>float64</td>\n",
              "    </tr>\n",
              "    <tr>\n",
              "      <th>status</th>\n",
              "      <td>object</td>\n",
              "    </tr>\n",
              "    <tr>\n",
              "      <th>price</th>\n",
              "      <td>float64</td>\n",
              "    </tr>\n",
              "    <tr>\n",
              "      <th>bed</th>\n",
              "      <td>float64</td>\n",
              "    </tr>\n",
              "    <tr>\n",
              "      <th>bath</th>\n",
              "      <td>float64</td>\n",
              "    </tr>\n",
              "    <tr>\n",
              "      <th>acre_lot</th>\n",
              "      <td>float64</td>\n",
              "    </tr>\n",
              "    <tr>\n",
              "      <th>street</th>\n",
              "      <td>float64</td>\n",
              "    </tr>\n",
              "    <tr>\n",
              "      <th>city</th>\n",
              "      <td>object</td>\n",
              "    </tr>\n",
              "    <tr>\n",
              "      <th>state</th>\n",
              "      <td>object</td>\n",
              "    </tr>\n",
              "    <tr>\n",
              "      <th>zip_code</th>\n",
              "      <td>float64</td>\n",
              "    </tr>\n",
              "    <tr>\n",
              "      <th>house_size</th>\n",
              "      <td>float64</td>\n",
              "    </tr>\n",
              "    <tr>\n",
              "      <th>prev_sold_date</th>\n",
              "      <td>object</td>\n",
              "    </tr>\n",
              "  </tbody>\n",
              "</table>\n",
              "</div><br><label><b>dtype:</b> object</label>"
            ]
          },
          "metadata": {},
          "execution_count": 77
        }
      ]
    },
    {
      "cell_type": "markdown",
      "source": [
        "#2. Data Preprocessing/Understanding\n",
        "###This section contains all of the data preprocessing that is needed before the ML model is trained. The data will also be further explored.\n"
      ],
      "metadata": {
        "id": "hFnEx-_M4VHe"
      }
    },
    {
      "cell_type": "markdown",
      "source": [
        "####Type switching\n",
        "We're gonna switch all categorical features to the *category* data type. If you're wondering what categorical features are, they're essentially any features that involves a non-ordinal numerical relationship or features that involve string values."
      ],
      "metadata": {
        "id": "dd_8sH3Ikb8y"
      }
    },
    {
      "cell_type": "code",
      "source": [
        "df = df.apply(lambda col: col.astype(\"category\") if col.dtype == \"object\" else col)\n",
        "df[\"brokered_by\"] = df[\"brokered_by\"].astype(\"category\")\n",
        "df[\"zip_code\"] = df[\"zip_code\"].astype(\"category\")"
      ],
      "metadata": {
        "id": "Vj3eP90kkgDw"
      },
      "execution_count": 78,
      "outputs": []
    },
    {
      "cell_type": "code",
      "source": [
        "print(df[\"status\"].unique())"
      ],
      "metadata": {
        "id": "b8RAqM4jKusG",
        "colab": {
          "base_uri": "https://localhost:8080/"
        },
        "outputId": "a8f053a9-33ae-494f-89ca-617fe0bb39d2"
      },
      "execution_count": 79,
      "outputs": [
        {
          "output_type": "stream",
          "name": "stdout",
          "text": [
            "['for_sale', 'ready_to_build', 'sold']\n",
            "Categories (3, object): ['for_sale', 'ready_to_build', 'sold']\n"
          ]
        }
      ]
    },
    {
      "cell_type": "code",
      "source": [
        "df[\"status\"].value_counts()"
      ],
      "metadata": {
        "id": "IaOhEhYURTN2",
        "colab": {
          "base_uri": "https://localhost:8080/",
          "height": 210
        },
        "outputId": "6e731f77-5a70-4209-9d90-2af085c795c3"
      },
      "execution_count": 80,
      "outputs": [
        {
          "output_type": "execute_result",
          "data": {
            "text/plain": [
              "status\n",
              "for_sale          1389306\n",
              "sold               812009\n",
              "ready_to_build      25067\n",
              "Name: count, dtype: int64"
            ],
            "text/html": [
              "<div>\n",
              "<style scoped>\n",
              "    .dataframe tbody tr th:only-of-type {\n",
              "        vertical-align: middle;\n",
              "    }\n",
              "\n",
              "    .dataframe tbody tr th {\n",
              "        vertical-align: top;\n",
              "    }\n",
              "\n",
              "    .dataframe thead th {\n",
              "        text-align: right;\n",
              "    }\n",
              "</style>\n",
              "<table border=\"1\" class=\"dataframe\">\n",
              "  <thead>\n",
              "    <tr style=\"text-align: right;\">\n",
              "      <th></th>\n",
              "      <th>count</th>\n",
              "    </tr>\n",
              "    <tr>\n",
              "      <th>status</th>\n",
              "      <th></th>\n",
              "    </tr>\n",
              "  </thead>\n",
              "  <tbody>\n",
              "    <tr>\n",
              "      <th>for_sale</th>\n",
              "      <td>1389306</td>\n",
              "    </tr>\n",
              "    <tr>\n",
              "      <th>sold</th>\n",
              "      <td>812009</td>\n",
              "    </tr>\n",
              "    <tr>\n",
              "      <th>ready_to_build</th>\n",
              "      <td>25067</td>\n",
              "    </tr>\n",
              "  </tbody>\n",
              "</table>\n",
              "</div><br><label><b>dtype:</b> int64</label>"
            ]
          },
          "metadata": {},
          "execution_count": 80
        }
      ]
    },
    {
      "cell_type": "markdown",
      "source": [
        "####Removing a few columns\n",
        "Remember that the goal of our machine learning model is to be able to predict the **sold prices** of houses, not their listing prices our their ready to build prices. Therefore, we'll only keep the rows where the house has a confirmed sold price. This will also significantly reduce the size of the df, making our data easier to work with."
      ],
      "metadata": {
        "id": "q8u_EyT04gtO"
      }
    },
    {
      "cell_type": "code",
      "source": [
        "df = df.loc[df[\"status\"] == \"sold\"]"
      ],
      "metadata": {
        "id": "GBeIPELKN9Ah"
      },
      "execution_count": 81,
      "outputs": []
    },
    {
      "cell_type": "markdown",
      "source": [
        "We're then going to want to drop the status feature since it's no longer useful.\n",
        "\n",
        "#####In addition, from df.nunique() above, we can see that the street column has almost as many unique streets as there are rows in the df! That feature is useless!!! Let's remove it as well."
      ],
      "metadata": {
        "id": "ZJ06GnFe6JPx"
      }
    },
    {
      "cell_type": "code",
      "source": [
        "df.drop(columns=[\"status\", \"street\"], inplace=True)"
      ],
      "metadata": {
        "id": "jxE-hFiY6IOD",
        "colab": {
          "base_uri": "https://localhost:8080/"
        },
        "outputId": "ee79a8e1-a7db-4a2b-a19b-7b7746e5d3df"
      },
      "execution_count": 82,
      "outputs": [
        {
          "output_type": "stream",
          "name": "stderr",
          "text": [
            "<ipython-input-82-c5761e3372d7>:1: SettingWithCopyWarning: \n",
            "A value is trying to be set on a copy of a slice from a DataFrame\n",
            "\n",
            "See the caveats in the documentation: https://pandas.pydata.org/pandas-docs/stable/user_guide/indexing.html#returning-a-view-versus-a-copy\n",
            "  df.drop(columns=[\"status\", \"street\"], inplace=True)\n"
          ]
        }
      ]
    },
    {
      "cell_type": "markdown",
      "source": [
        "####Accounting for null values"
      ],
      "metadata": {
        "id": "Ipg-4KU1_HaF"
      }
    },
    {
      "cell_type": "code",
      "source": [
        "df.isna().sum()"
      ],
      "metadata": {
        "id": "-rxTUUTzMOOd",
        "colab": {
          "base_uri": "https://localhost:8080/",
          "height": 398
        },
        "outputId": "a3a0ed39-d6bf-4dfa-985c-650855a384a8"
      },
      "execution_count": 83,
      "outputs": [
        {
          "output_type": "execute_result",
          "data": {
            "text/plain": [
              "brokered_by         3020\n",
              "price                245\n",
              "bed                69974\n",
              "bath               77929\n",
              "acre_lot          107622\n",
              "city                  98\n",
              "state                  0\n",
              "zip_code              12\n",
              "house_size        103710\n",
              "prev_sold_date         0\n",
              "dtype: int64"
            ],
            "text/html": [
              "<div>\n",
              "<style scoped>\n",
              "    .dataframe tbody tr th:only-of-type {\n",
              "        vertical-align: middle;\n",
              "    }\n",
              "\n",
              "    .dataframe tbody tr th {\n",
              "        vertical-align: top;\n",
              "    }\n",
              "\n",
              "    .dataframe thead th {\n",
              "        text-align: right;\n",
              "    }\n",
              "</style>\n",
              "<table border=\"1\" class=\"dataframe\">\n",
              "  <thead>\n",
              "    <tr style=\"text-align: right;\">\n",
              "      <th></th>\n",
              "      <th>0</th>\n",
              "    </tr>\n",
              "  </thead>\n",
              "  <tbody>\n",
              "    <tr>\n",
              "      <th>brokered_by</th>\n",
              "      <td>3020</td>\n",
              "    </tr>\n",
              "    <tr>\n",
              "      <th>price</th>\n",
              "      <td>245</td>\n",
              "    </tr>\n",
              "    <tr>\n",
              "      <th>bed</th>\n",
              "      <td>69974</td>\n",
              "    </tr>\n",
              "    <tr>\n",
              "      <th>bath</th>\n",
              "      <td>77929</td>\n",
              "    </tr>\n",
              "    <tr>\n",
              "      <th>acre_lot</th>\n",
              "      <td>107622</td>\n",
              "    </tr>\n",
              "    <tr>\n",
              "      <th>city</th>\n",
              "      <td>98</td>\n",
              "    </tr>\n",
              "    <tr>\n",
              "      <th>state</th>\n",
              "      <td>0</td>\n",
              "    </tr>\n",
              "    <tr>\n",
              "      <th>zip_code</th>\n",
              "      <td>12</td>\n",
              "    </tr>\n",
              "    <tr>\n",
              "      <th>house_size</th>\n",
              "      <td>103710</td>\n",
              "    </tr>\n",
              "    <tr>\n",
              "      <th>prev_sold_date</th>\n",
              "      <td>0</td>\n",
              "    </tr>\n",
              "  </tbody>\n",
              "</table>\n",
              "</div><br><label><b>dtype:</b> int64</label>"
            ]
          },
          "metadata": {},
          "execution_count": 83
        }
      ]
    },
    {
      "cell_type": "code",
      "source": [
        "df.shape"
      ],
      "metadata": {
        "colab": {
          "base_uri": "https://localhost:8080/"
        },
        "id": "IEgXEzCi_edI",
        "outputId": "e0c068a9-99b1-4af5-e798-aff1e9963b1a"
      },
      "execution_count": 84,
      "outputs": [
        {
          "output_type": "execute_result",
          "data": {
            "text/plain": [
              "(812009, 10)"
            ]
          },
          "metadata": {},
          "execution_count": 84
        }
      ]
    },
    {
      "cell_type": "markdown",
      "source": [
        "That's a LOT of null values.\n",
        "##### Since these rows with null values constitute a sizeable % of our df, we should try to remove as few as we can. With the features bed and bath, they are probably highly correlated with the price feature. We can group the df by price and then apply the fillna() command onto the null values of these features."
      ],
      "metadata": {
        "id": "ifJIBq35_NQL"
      }
    },
    {
      "cell_type": "code",
      "source": [
        "df[\"bed\"].describe().round(4)"
      ],
      "metadata": {
        "id": "67_9kL5e4aLt",
        "colab": {
          "base_uri": "https://localhost:8080/",
          "height": 335
        },
        "outputId": "476efa35-8f11-4619-d91e-9dd49af1f09a"
      },
      "execution_count": 85,
      "outputs": [
        {
          "output_type": "execute_result",
          "data": {
            "text/plain": [
              "count   742035.00\n",
              "mean         3.19\n",
              "std          1.30\n",
              "min          1.00\n",
              "25%          3.00\n",
              "50%          3.00\n",
              "75%          4.00\n",
              "max        444.00\n",
              "Name: bed, dtype: float64"
            ],
            "text/html": [
              "<div>\n",
              "<style scoped>\n",
              "    .dataframe tbody tr th:only-of-type {\n",
              "        vertical-align: middle;\n",
              "    }\n",
              "\n",
              "    .dataframe tbody tr th {\n",
              "        vertical-align: top;\n",
              "    }\n",
              "\n",
              "    .dataframe thead th {\n",
              "        text-align: right;\n",
              "    }\n",
              "</style>\n",
              "<table border=\"1\" class=\"dataframe\">\n",
              "  <thead>\n",
              "    <tr style=\"text-align: right;\">\n",
              "      <th></th>\n",
              "      <th>bed</th>\n",
              "    </tr>\n",
              "  </thead>\n",
              "  <tbody>\n",
              "    <tr>\n",
              "      <th>count</th>\n",
              "      <td>742035.00</td>\n",
              "    </tr>\n",
              "    <tr>\n",
              "      <th>mean</th>\n",
              "      <td>3.19</td>\n",
              "    </tr>\n",
              "    <tr>\n",
              "      <th>std</th>\n",
              "      <td>1.30</td>\n",
              "    </tr>\n",
              "    <tr>\n",
              "      <th>min</th>\n",
              "      <td>1.00</td>\n",
              "    </tr>\n",
              "    <tr>\n",
              "      <th>25%</th>\n",
              "      <td>3.00</td>\n",
              "    </tr>\n",
              "    <tr>\n",
              "      <th>50%</th>\n",
              "      <td>3.00</td>\n",
              "    </tr>\n",
              "    <tr>\n",
              "      <th>75%</th>\n",
              "      <td>4.00</td>\n",
              "    </tr>\n",
              "    <tr>\n",
              "      <th>max</th>\n",
              "      <td>444.00</td>\n",
              "    </tr>\n",
              "  </tbody>\n",
              "</table>\n",
              "</div><br><label><b>dtype:</b> float64</label>"
            ]
          },
          "metadata": {},
          "execution_count": 85
        }
      ]
    },
    {
      "cell_type": "code",
      "source": [
        "print(df.groupby([\"price\"]).ngroups) #Given we have 812k total rows, 34518 groups is enough for the fillna() operation"
      ],
      "metadata": {
        "id": "LdX3qjG53ycf",
        "colab": {
          "base_uri": "https://localhost:8080/"
        },
        "outputId": "b76a1cd4-caa0-48dd-c7d3-faa17fceee19"
      },
      "execution_count": 86,
      "outputs": [
        {
          "output_type": "stream",
          "name": "stdout",
          "text": [
            "34518\n"
          ]
        }
      ]
    },
    {
      "cell_type": "code",
      "source": [
        "df[\"bed\"] = df.groupby([\"price\"])[\"bed\"].transform(lambda x: x.fillna(x.mean()))\n"
      ],
      "metadata": {
        "id": "JCcd9MkG3pAk"
      },
      "execution_count": 87,
      "outputs": []
    },
    {
      "cell_type": "code",
      "source": [
        "print(df[\"bed\"].describe().round(4))"
      ],
      "metadata": {
        "id": "FItu3oCeyzLp",
        "colab": {
          "base_uri": "https://localhost:8080/"
        },
        "outputId": "675f13be-f51b-4bad-d360-aeb21c6c1ed7"
      },
      "execution_count": 88,
      "outputs": [
        {
          "output_type": "stream",
          "name": "stdout",
          "text": [
            "count   808487.00\n",
            "mean         3.16\n",
            "std          1.26\n",
            "min          1.00\n",
            "25%          2.70\n",
            "50%          3.00\n",
            "75%          4.00\n",
            "max        444.00\n",
            "Name: bed, dtype: float64\n"
          ]
        }
      ]
    },
    {
      "cell_type": "markdown",
      "source": [
        "The distributrions mean changed by 0.03, but considering we added around 60k values to the bed feature, it's a good for fillna()."
      ],
      "metadata": {
        "id": "pzOiE4zTgdWD"
      }
    },
    {
      "cell_type": "markdown",
      "source": [
        "Now we'll do the exact same thing with the bath column:"
      ],
      "metadata": {
        "id": "t0hUFS59gawi"
      }
    },
    {
      "cell_type": "code",
      "source": [
        "print(df[\"bath\"].describe().round(4))"
      ],
      "metadata": {
        "id": "zVz--DuMzk-X",
        "colab": {
          "base_uri": "https://localhost:8080/"
        },
        "outputId": "44cddcd9-999c-4c51-883d-0b0bad98c615"
      },
      "execution_count": 89,
      "outputs": [
        {
          "output_type": "stream",
          "name": "stdout",
          "text": [
            "count   734080.00\n",
            "mean         2.39\n",
            "std          1.16\n",
            "min          1.00\n",
            "25%          2.00\n",
            "50%          2.00\n",
            "75%          3.00\n",
            "max        222.00\n",
            "Name: bath, dtype: float64\n"
          ]
        }
      ]
    },
    {
      "cell_type": "code",
      "source": [
        "df[\"bath\"] = df.groupby([\"price\"])[\"bath\"].transform(lambda x: x.fillna(x.mean()))"
      ],
      "metadata": {
        "id": "uICvQTt1oLMj"
      },
      "execution_count": 90,
      "outputs": []
    },
    {
      "cell_type": "code",
      "source": [
        "print(df[\"bath\"].describe().round(4))"
      ],
      "metadata": {
        "id": "MkkXLfZ00cI1",
        "colab": {
          "base_uri": "https://localhost:8080/"
        },
        "outputId": "ded72080-4b66-4ff8-b3dd-1a2e4140ecc3"
      },
      "execution_count": 91,
      "outputs": [
        {
          "output_type": "stream",
          "name": "stdout",
          "text": [
            "count   808347.00\n",
            "mean         2.34\n",
            "std          1.13\n",
            "min          1.00\n",
            "25%          2.00\n",
            "50%          2.00\n",
            "75%          3.00\n",
            "max        222.00\n",
            "Name: bath, dtype: float64\n"
          ]
        }
      ]
    },
    {
      "cell_type": "markdown",
      "source": [
        "The mean of bath changed by 0.05 but we added around 75k values. Once again, this is a pretty good result for fillna()."
      ],
      "metadata": {
        "id": "LdTHuNAeEHCU"
      }
    },
    {
      "cell_type": "markdown",
      "source": [
        "You may have also noticed that the maximums for bed and bath respectively are 444 and 222! We can create an easy outlier rule right now to remove rows with bed/bath values greater than 10"
      ],
      "metadata": {
        "id": "wo6pJ9OTjyOo"
      }
    },
    {
      "cell_type": "code",
      "source": [
        "df = df[df[\"bed\"] <= 10]\n",
        "df = df[df[\"bath\"] <= 10]"
      ],
      "metadata": {
        "id": "4z9sWRPvkFaC"
      },
      "execution_count": 92,
      "outputs": []
    },
    {
      "cell_type": "code",
      "source": [
        "print(df.isna().sum())"
      ],
      "metadata": {
        "id": "xgcLiAxnknE6",
        "colab": {
          "base_uri": "https://localhost:8080/"
        },
        "outputId": "2724c0ac-3cc9-41c3-a4a4-87a60fea7ac8"
      },
      "execution_count": 93,
      "outputs": [
        {
          "output_type": "stream",
          "name": "stdout",
          "text": [
            "brokered_by         2942\n",
            "price                  0\n",
            "bed                    0\n",
            "bath                   0\n",
            "acre_lot          107398\n",
            "city                  89\n",
            "state                  0\n",
            "zip_code              12\n",
            "house_size        100225\n",
            "prev_sold_date         0\n",
            "dtype: int64\n"
          ]
        }
      ]
    },
    {
      "cell_type": "markdown",
      "source": [
        "We'll remove the rest of the null values, given that they are harder to fill in by using another feature:"
      ],
      "metadata": {
        "id": "mYh75KO0hHVm"
      }
    },
    {
      "cell_type": "code",
      "source": [
        "df.dropna(inplace=True)"
      ],
      "metadata": {
        "id": "WsPT-QQlfTTq"
      },
      "execution_count": 94,
      "outputs": []
    },
    {
      "cell_type": "code",
      "source": [
        "print(df.isna().sum())"
      ],
      "metadata": {
        "colab": {
          "base_uri": "https://localhost:8080/"
        },
        "id": "INkNfce7a9ti",
        "outputId": "424adc01-c05e-4869-fcc7-f6714f12102f"
      },
      "execution_count": 95,
      "outputs": [
        {
          "output_type": "stream",
          "name": "stdout",
          "text": [
            "brokered_by       0\n",
            "price             0\n",
            "bed               0\n",
            "bath              0\n",
            "acre_lot          0\n",
            "city              0\n",
            "state             0\n",
            "zip_code          0\n",
            "house_size        0\n",
            "prev_sold_date    0\n",
            "dtype: int64\n"
          ]
        }
      ]
    },
    {
      "cell_type": "code",
      "source": [
        "print(df.shape[0])"
      ],
      "metadata": {
        "id": "aUg9y8eu4BMt",
        "colab": {
          "base_uri": "https://localhost:8080/"
        },
        "outputId": "0d13f884-b23e-40a1-f729-ade0fd394819"
      },
      "execution_count": 96,
      "outputs": [
        {
          "output_type": "stream",
          "name": "stdout",
          "text": [
            "616609\n"
          ]
        }
      ]
    },
    {
      "cell_type": "markdown",
      "source": [
        "####Drop Duplicates"
      ],
      "metadata": {
        "id": "6QBoOCJUW6Gj"
      }
    },
    {
      "cell_type": "code",
      "source": [
        "df.shape"
      ],
      "metadata": {
        "colab": {
          "base_uri": "https://localhost:8080/"
        },
        "id": "GJn27VSjTaC8",
        "outputId": "d658d931-97c9-4d53-e5f6-a500aca345a8"
      },
      "execution_count": 97,
      "outputs": [
        {
          "output_type": "execute_result",
          "data": {
            "text/plain": [
              "(616609, 10)"
            ]
          },
          "metadata": {},
          "execution_count": 97
        }
      ]
    },
    {
      "cell_type": "code",
      "source": [
        "df.duplicated().sum()"
      ],
      "metadata": {
        "colab": {
          "base_uri": "https://localhost:8080/"
        },
        "id": "-Tc-QnO5jZWC",
        "outputId": "afa7c5da-58fb-48e5-e7cc-5174f5186080"
      },
      "execution_count": 98,
      "outputs": [
        {
          "output_type": "execute_result",
          "data": {
            "text/plain": [
              "583"
            ]
          },
          "metadata": {},
          "execution_count": 98
        }
      ]
    },
    {
      "cell_type": "code",
      "source": [
        "df.drop_duplicates(inplace=True)\n",
        "df.reset_index(drop=True)"
      ],
      "metadata": {
        "id": "Mu0e8cpmIMx4",
        "colab": {
          "base_uri": "https://localhost:8080/",
          "height": 424
        },
        "outputId": "dfd7c3a9-d042-41fb-c54b-00640d390493"
      },
      "execution_count": 99,
      "outputs": [
        {
          "output_type": "execute_result",
          "data": {
            "text/plain": [
              "       brokered_by     price  bed  bath  acre_lot       city        state zip_code  house_size prev_sold_date\n",
              "0         72457.00 524900.00 3.00  2.00      0.09     Aguada  Puerto Rico   602.00     2200.00     2021-12-13\n",
              "1         48586.00 175000.00 2.78  1.83      0.14  Aguadilla  Puerto Rico   603.00     3200.00     2021-11-29\n",
              "2         61711.00  90000.00 3.00  2.00      0.08  Aguadilla  Puerto Rico   603.00     1421.00     2021-10-19\n",
              "3         49592.00  22500.00 2.00  1.00      0.32     Anasco  Puerto Rico   610.00      850.00     2021-12-30\n",
              "4         72408.00 168000.00 6.00  4.00      0.05     Anasco  Puerto Rico   610.00     3422.00     2021-10-21\n",
              "...            ...       ...  ...   ...       ...        ...          ...      ...         ...            ...\n",
              "616021    23009.00 359900.00 4.00  2.00      0.33   Richland   Washington 99354.00     3600.00     2022-03-25\n",
              "616022    18208.00 350000.00 3.00  2.00      0.10   Richland   Washington 99354.00     1616.00     2022-03-25\n",
              "616023    76856.00 440000.00 6.00  3.00      0.50   Richland   Washington 99354.00     3200.00     2022-03-24\n",
              "616024    53618.00 179900.00 2.00  1.00      0.09   Richland   Washington 99354.00      933.00     2022-03-24\n",
              "616025   108243.00 580000.00 5.00  3.00      0.31   Richland   Washington 99354.00     3615.00     2022-03-23\n",
              "\n",
              "[616026 rows x 10 columns]"
            ],
            "text/html": [
              "\n",
              "  <div id=\"df-663ff25a-d269-4947-a2ec-9fd8ebd2caba\" class=\"colab-df-container\">\n",
              "    <div>\n",
              "<style scoped>\n",
              "    .dataframe tbody tr th:only-of-type {\n",
              "        vertical-align: middle;\n",
              "    }\n",
              "\n",
              "    .dataframe tbody tr th {\n",
              "        vertical-align: top;\n",
              "    }\n",
              "\n",
              "    .dataframe thead th {\n",
              "        text-align: right;\n",
              "    }\n",
              "</style>\n",
              "<table border=\"1\" class=\"dataframe\">\n",
              "  <thead>\n",
              "    <tr style=\"text-align: right;\">\n",
              "      <th></th>\n",
              "      <th>brokered_by</th>\n",
              "      <th>price</th>\n",
              "      <th>bed</th>\n",
              "      <th>bath</th>\n",
              "      <th>acre_lot</th>\n",
              "      <th>city</th>\n",
              "      <th>state</th>\n",
              "      <th>zip_code</th>\n",
              "      <th>house_size</th>\n",
              "      <th>prev_sold_date</th>\n",
              "    </tr>\n",
              "  </thead>\n",
              "  <tbody>\n",
              "    <tr>\n",
              "      <th>0</th>\n",
              "      <td>72457.00</td>\n",
              "      <td>524900.00</td>\n",
              "      <td>3.00</td>\n",
              "      <td>2.00</td>\n",
              "      <td>0.09</td>\n",
              "      <td>Aguada</td>\n",
              "      <td>Puerto Rico</td>\n",
              "      <td>602.00</td>\n",
              "      <td>2200.00</td>\n",
              "      <td>2021-12-13</td>\n",
              "    </tr>\n",
              "    <tr>\n",
              "      <th>1</th>\n",
              "      <td>48586.00</td>\n",
              "      <td>175000.00</td>\n",
              "      <td>2.78</td>\n",
              "      <td>1.83</td>\n",
              "      <td>0.14</td>\n",
              "      <td>Aguadilla</td>\n",
              "      <td>Puerto Rico</td>\n",
              "      <td>603.00</td>\n",
              "      <td>3200.00</td>\n",
              "      <td>2021-11-29</td>\n",
              "    </tr>\n",
              "    <tr>\n",
              "      <th>2</th>\n",
              "      <td>61711.00</td>\n",
              "      <td>90000.00</td>\n",
              "      <td>3.00</td>\n",
              "      <td>2.00</td>\n",
              "      <td>0.08</td>\n",
              "      <td>Aguadilla</td>\n",
              "      <td>Puerto Rico</td>\n",
              "      <td>603.00</td>\n",
              "      <td>1421.00</td>\n",
              "      <td>2021-10-19</td>\n",
              "    </tr>\n",
              "    <tr>\n",
              "      <th>3</th>\n",
              "      <td>49592.00</td>\n",
              "      <td>22500.00</td>\n",
              "      <td>2.00</td>\n",
              "      <td>1.00</td>\n",
              "      <td>0.32</td>\n",
              "      <td>Anasco</td>\n",
              "      <td>Puerto Rico</td>\n",
              "      <td>610.00</td>\n",
              "      <td>850.00</td>\n",
              "      <td>2021-12-30</td>\n",
              "    </tr>\n",
              "    <tr>\n",
              "      <th>4</th>\n",
              "      <td>72408.00</td>\n",
              "      <td>168000.00</td>\n",
              "      <td>6.00</td>\n",
              "      <td>4.00</td>\n",
              "      <td>0.05</td>\n",
              "      <td>Anasco</td>\n",
              "      <td>Puerto Rico</td>\n",
              "      <td>610.00</td>\n",
              "      <td>3422.00</td>\n",
              "      <td>2021-10-21</td>\n",
              "    </tr>\n",
              "    <tr>\n",
              "      <th>...</th>\n",
              "      <td>...</td>\n",
              "      <td>...</td>\n",
              "      <td>...</td>\n",
              "      <td>...</td>\n",
              "      <td>...</td>\n",
              "      <td>...</td>\n",
              "      <td>...</td>\n",
              "      <td>...</td>\n",
              "      <td>...</td>\n",
              "      <td>...</td>\n",
              "    </tr>\n",
              "    <tr>\n",
              "      <th>616021</th>\n",
              "      <td>23009.00</td>\n",
              "      <td>359900.00</td>\n",
              "      <td>4.00</td>\n",
              "      <td>2.00</td>\n",
              "      <td>0.33</td>\n",
              "      <td>Richland</td>\n",
              "      <td>Washington</td>\n",
              "      <td>99354.00</td>\n",
              "      <td>3600.00</td>\n",
              "      <td>2022-03-25</td>\n",
              "    </tr>\n",
              "    <tr>\n",
              "      <th>616022</th>\n",
              "      <td>18208.00</td>\n",
              "      <td>350000.00</td>\n",
              "      <td>3.00</td>\n",
              "      <td>2.00</td>\n",
              "      <td>0.10</td>\n",
              "      <td>Richland</td>\n",
              "      <td>Washington</td>\n",
              "      <td>99354.00</td>\n",
              "      <td>1616.00</td>\n",
              "      <td>2022-03-25</td>\n",
              "    </tr>\n",
              "    <tr>\n",
              "      <th>616023</th>\n",
              "      <td>76856.00</td>\n",
              "      <td>440000.00</td>\n",
              "      <td>6.00</td>\n",
              "      <td>3.00</td>\n",
              "      <td>0.50</td>\n",
              "      <td>Richland</td>\n",
              "      <td>Washington</td>\n",
              "      <td>99354.00</td>\n",
              "      <td>3200.00</td>\n",
              "      <td>2022-03-24</td>\n",
              "    </tr>\n",
              "    <tr>\n",
              "      <th>616024</th>\n",
              "      <td>53618.00</td>\n",
              "      <td>179900.00</td>\n",
              "      <td>2.00</td>\n",
              "      <td>1.00</td>\n",
              "      <td>0.09</td>\n",
              "      <td>Richland</td>\n",
              "      <td>Washington</td>\n",
              "      <td>99354.00</td>\n",
              "      <td>933.00</td>\n",
              "      <td>2022-03-24</td>\n",
              "    </tr>\n",
              "    <tr>\n",
              "      <th>616025</th>\n",
              "      <td>108243.00</td>\n",
              "      <td>580000.00</td>\n",
              "      <td>5.00</td>\n",
              "      <td>3.00</td>\n",
              "      <td>0.31</td>\n",
              "      <td>Richland</td>\n",
              "      <td>Washington</td>\n",
              "      <td>99354.00</td>\n",
              "      <td>3615.00</td>\n",
              "      <td>2022-03-23</td>\n",
              "    </tr>\n",
              "  </tbody>\n",
              "</table>\n",
              "<p>616026 rows × 10 columns</p>\n",
              "</div>\n",
              "    <div class=\"colab-df-buttons\">\n",
              "\n",
              "  <div class=\"colab-df-container\">\n",
              "    <button class=\"colab-df-convert\" onclick=\"convertToInteractive('df-663ff25a-d269-4947-a2ec-9fd8ebd2caba')\"\n",
              "            title=\"Convert this dataframe to an interactive table.\"\n",
              "            style=\"display:none;\">\n",
              "\n",
              "  <svg xmlns=\"http://www.w3.org/2000/svg\" height=\"24px\" viewBox=\"0 -960 960 960\">\n",
              "    <path d=\"M120-120v-720h720v720H120Zm60-500h600v-160H180v160Zm220 220h160v-160H400v160Zm0 220h160v-160H400v160ZM180-400h160v-160H180v160Zm440 0h160v-160H620v160ZM180-180h160v-160H180v160Zm440 0h160v-160H620v160Z\"/>\n",
              "  </svg>\n",
              "    </button>\n",
              "\n",
              "  <style>\n",
              "    .colab-df-container {\n",
              "      display:flex;\n",
              "      gap: 12px;\n",
              "    }\n",
              "\n",
              "    .colab-df-convert {\n",
              "      background-color: #E8F0FE;\n",
              "      border: none;\n",
              "      border-radius: 50%;\n",
              "      cursor: pointer;\n",
              "      display: none;\n",
              "      fill: #1967D2;\n",
              "      height: 32px;\n",
              "      padding: 0 0 0 0;\n",
              "      width: 32px;\n",
              "    }\n",
              "\n",
              "    .colab-df-convert:hover {\n",
              "      background-color: #E2EBFA;\n",
              "      box-shadow: 0px 1px 2px rgba(60, 64, 67, 0.3), 0px 1px 3px 1px rgba(60, 64, 67, 0.15);\n",
              "      fill: #174EA6;\n",
              "    }\n",
              "\n",
              "    .colab-df-buttons div {\n",
              "      margin-bottom: 4px;\n",
              "    }\n",
              "\n",
              "    [theme=dark] .colab-df-convert {\n",
              "      background-color: #3B4455;\n",
              "      fill: #D2E3FC;\n",
              "    }\n",
              "\n",
              "    [theme=dark] .colab-df-convert:hover {\n",
              "      background-color: #434B5C;\n",
              "      box-shadow: 0px 1px 3px 1px rgba(0, 0, 0, 0.15);\n",
              "      filter: drop-shadow(0px 1px 2px rgba(0, 0, 0, 0.3));\n",
              "      fill: #FFFFFF;\n",
              "    }\n",
              "  </style>\n",
              "\n",
              "    <script>\n",
              "      const buttonEl =\n",
              "        document.querySelector('#df-663ff25a-d269-4947-a2ec-9fd8ebd2caba button.colab-df-convert');\n",
              "      buttonEl.style.display =\n",
              "        google.colab.kernel.accessAllowed ? 'block' : 'none';\n",
              "\n",
              "      async function convertToInteractive(key) {\n",
              "        const element = document.querySelector('#df-663ff25a-d269-4947-a2ec-9fd8ebd2caba');\n",
              "        const dataTable =\n",
              "          await google.colab.kernel.invokeFunction('convertToInteractive',\n",
              "                                                    [key], {});\n",
              "        if (!dataTable) return;\n",
              "\n",
              "        const docLinkHtml = 'Like what you see? Visit the ' +\n",
              "          '<a target=\"_blank\" href=https://colab.research.google.com/notebooks/data_table.ipynb>data table notebook</a>'\n",
              "          + ' to learn more about interactive tables.';\n",
              "        element.innerHTML = '';\n",
              "        dataTable['output_type'] = 'display_data';\n",
              "        await google.colab.output.renderOutput(dataTable, element);\n",
              "        const docLink = document.createElement('div');\n",
              "        docLink.innerHTML = docLinkHtml;\n",
              "        element.appendChild(docLink);\n",
              "      }\n",
              "    </script>\n",
              "  </div>\n",
              "\n",
              "\n",
              "<div id=\"df-20840e87-f01d-4240-9877-b846b314bb29\">\n",
              "  <button class=\"colab-df-quickchart\" onclick=\"quickchart('df-20840e87-f01d-4240-9877-b846b314bb29')\"\n",
              "            title=\"Suggest charts\"\n",
              "            style=\"display:none;\">\n",
              "\n",
              "<svg xmlns=\"http://www.w3.org/2000/svg\" height=\"24px\"viewBox=\"0 0 24 24\"\n",
              "     width=\"24px\">\n",
              "    <g>\n",
              "        <path d=\"M19 3H5c-1.1 0-2 .9-2 2v14c0 1.1.9 2 2 2h14c1.1 0 2-.9 2-2V5c0-1.1-.9-2-2-2zM9 17H7v-7h2v7zm4 0h-2V7h2v10zm4 0h-2v-4h2v4z\"/>\n",
              "    </g>\n",
              "</svg>\n",
              "  </button>\n",
              "\n",
              "<style>\n",
              "  .colab-df-quickchart {\n",
              "      --bg-color: #E8F0FE;\n",
              "      --fill-color: #1967D2;\n",
              "      --hover-bg-color: #E2EBFA;\n",
              "      --hover-fill-color: #174EA6;\n",
              "      --disabled-fill-color: #AAA;\n",
              "      --disabled-bg-color: #DDD;\n",
              "  }\n",
              "\n",
              "  [theme=dark] .colab-df-quickchart {\n",
              "      --bg-color: #3B4455;\n",
              "      --fill-color: #D2E3FC;\n",
              "      --hover-bg-color: #434B5C;\n",
              "      --hover-fill-color: #FFFFFF;\n",
              "      --disabled-bg-color: #3B4455;\n",
              "      --disabled-fill-color: #666;\n",
              "  }\n",
              "\n",
              "  .colab-df-quickchart {\n",
              "    background-color: var(--bg-color);\n",
              "    border: none;\n",
              "    border-radius: 50%;\n",
              "    cursor: pointer;\n",
              "    display: none;\n",
              "    fill: var(--fill-color);\n",
              "    height: 32px;\n",
              "    padding: 0;\n",
              "    width: 32px;\n",
              "  }\n",
              "\n",
              "  .colab-df-quickchart:hover {\n",
              "    background-color: var(--hover-bg-color);\n",
              "    box-shadow: 0 1px 2px rgba(60, 64, 67, 0.3), 0 1px 3px 1px rgba(60, 64, 67, 0.15);\n",
              "    fill: var(--button-hover-fill-color);\n",
              "  }\n",
              "\n",
              "  .colab-df-quickchart-complete:disabled,\n",
              "  .colab-df-quickchart-complete:disabled:hover {\n",
              "    background-color: var(--disabled-bg-color);\n",
              "    fill: var(--disabled-fill-color);\n",
              "    box-shadow: none;\n",
              "  }\n",
              "\n",
              "  .colab-df-spinner {\n",
              "    border: 2px solid var(--fill-color);\n",
              "    border-color: transparent;\n",
              "    border-bottom-color: var(--fill-color);\n",
              "    animation:\n",
              "      spin 1s steps(1) infinite;\n",
              "  }\n",
              "\n",
              "  @keyframes spin {\n",
              "    0% {\n",
              "      border-color: transparent;\n",
              "      border-bottom-color: var(--fill-color);\n",
              "      border-left-color: var(--fill-color);\n",
              "    }\n",
              "    20% {\n",
              "      border-color: transparent;\n",
              "      border-left-color: var(--fill-color);\n",
              "      border-top-color: var(--fill-color);\n",
              "    }\n",
              "    30% {\n",
              "      border-color: transparent;\n",
              "      border-left-color: var(--fill-color);\n",
              "      border-top-color: var(--fill-color);\n",
              "      border-right-color: var(--fill-color);\n",
              "    }\n",
              "    40% {\n",
              "      border-color: transparent;\n",
              "      border-right-color: var(--fill-color);\n",
              "      border-top-color: var(--fill-color);\n",
              "    }\n",
              "    60% {\n",
              "      border-color: transparent;\n",
              "      border-right-color: var(--fill-color);\n",
              "    }\n",
              "    80% {\n",
              "      border-color: transparent;\n",
              "      border-right-color: var(--fill-color);\n",
              "      border-bottom-color: var(--fill-color);\n",
              "    }\n",
              "    90% {\n",
              "      border-color: transparent;\n",
              "      border-bottom-color: var(--fill-color);\n",
              "    }\n",
              "  }\n",
              "</style>\n",
              "\n",
              "  <script>\n",
              "    async function quickchart(key) {\n",
              "      const quickchartButtonEl =\n",
              "        document.querySelector('#' + key + ' button');\n",
              "      quickchartButtonEl.disabled = true;  // To prevent multiple clicks.\n",
              "      quickchartButtonEl.classList.add('colab-df-spinner');\n",
              "      try {\n",
              "        const charts = await google.colab.kernel.invokeFunction(\n",
              "            'suggestCharts', [key], {});\n",
              "      } catch (error) {\n",
              "        console.error('Error during call to suggestCharts:', error);\n",
              "      }\n",
              "      quickchartButtonEl.classList.remove('colab-df-spinner');\n",
              "      quickchartButtonEl.classList.add('colab-df-quickchart-complete');\n",
              "    }\n",
              "    (() => {\n",
              "      let quickchartButtonEl =\n",
              "        document.querySelector('#df-20840e87-f01d-4240-9877-b846b314bb29 button');\n",
              "      quickchartButtonEl.style.display =\n",
              "        google.colab.kernel.accessAllowed ? 'block' : 'none';\n",
              "    })();\n",
              "  </script>\n",
              "</div>\n",
              "\n",
              "    </div>\n",
              "  </div>\n"
            ],
            "application/vnd.google.colaboratory.intrinsic+json": {
              "type": "dataframe"
            }
          },
          "metadata": {},
          "execution_count": 99
        }
      ]
    },
    {
      "cell_type": "markdown",
      "source": [
        "####Refactoring our prev_sold_date column\n",
        "It would be better if we used the data from prev_sold_data to make numerically. We can change to \"days_since_last_sold\" each row's date is subtracted by the latest date we have in our dataset (February 2nd, 2024)"
      ],
      "metadata": {
        "id": "cQjXUyIiXMbt"
      }
    },
    {
      "cell_type": "code",
      "source": [
        "df[\"prev_sold_date\"] = pd.to_datetime(df[\"prev_sold_date\"], errors=\"coerce\")"
      ],
      "metadata": {
        "id": "tZV7VyasTJPx"
      },
      "execution_count": 100,
      "outputs": []
    },
    {
      "cell_type": "code",
      "source": [
        "epoch = pd.Timestamp(\"2024-02-02\")\n",
        "df[\"days_since_last_sold\"] = (epoch - df[\"prev_sold_date\"]).dt.days\n",
        "df[\"days_since_last_sold\"].sample()"
      ],
      "metadata": {
        "colab": {
          "base_uri": "https://localhost:8080/",
          "height": 115
        },
        "id": "ESk7sxEhtof9",
        "outputId": "182e1a44-b554-4208-baa6-e20d8e9b25e5"
      },
      "execution_count": 101,
      "outputs": [
        {
          "output_type": "execute_result",
          "data": {
            "text/plain": [
              "1968659    791\n",
              "Name: days_since_last_sold, dtype: int64"
            ],
            "text/html": [
              "<div>\n",
              "<style scoped>\n",
              "    .dataframe tbody tr th:only-of-type {\n",
              "        vertical-align: middle;\n",
              "    }\n",
              "\n",
              "    .dataframe tbody tr th {\n",
              "        vertical-align: top;\n",
              "    }\n",
              "\n",
              "    .dataframe thead th {\n",
              "        text-align: right;\n",
              "    }\n",
              "</style>\n",
              "<table border=\"1\" class=\"dataframe\">\n",
              "  <thead>\n",
              "    <tr style=\"text-align: right;\">\n",
              "      <th></th>\n",
              "      <th>days_since_last_sold</th>\n",
              "    </tr>\n",
              "  </thead>\n",
              "  <tbody>\n",
              "    <tr>\n",
              "      <th>1968659</th>\n",
              "      <td>791</td>\n",
              "    </tr>\n",
              "  </tbody>\n",
              "</table>\n",
              "</div><br><label><b>dtype:</b> int64</label>"
            ]
          },
          "metadata": {},
          "execution_count": 101
        }
      ]
    },
    {
      "cell_type": "code",
      "source": [
        "df.drop(columns=\"prev_sold_date\", inplace=True) #Drop the column now that we don't need it"
      ],
      "metadata": {
        "collapsed": true,
        "id": "u3Q8nx-5_c0R"
      },
      "execution_count": 102,
      "outputs": []
    },
    {
      "cell_type": "code",
      "source": [
        "df.columns"
      ],
      "metadata": {
        "colab": {
          "base_uri": "https://localhost:8080/"
        },
        "id": "ve7I9ENQYBdb",
        "outputId": "bdaf80e2-c3a8-4d4f-a3c7-c483c69a6da1"
      },
      "execution_count": 103,
      "outputs": [
        {
          "output_type": "execute_result",
          "data": {
            "text/plain": [
              "Index(['brokered_by', 'price', 'bed', 'bath', 'acre_lot', 'city', 'state', 'zip_code', 'house_size', 'days_since_last_sold'], dtype='object')"
            ]
          },
          "metadata": {},
          "execution_count": 103
        }
      ]
    },
    {
      "cell_type": "markdown",
      "source": [
        "####Removing 0 values"
      ],
      "metadata": {
        "id": "yskbiM63pGm-"
      }
    },
    {
      "cell_type": "code",
      "source": [
        "print((df == 0).sum(axis=0))"
      ],
      "metadata": {
        "colab": {
          "base_uri": "https://localhost:8080/"
        },
        "id": "zb7WpNguAyWx",
        "outputId": "f6a128b9-4f0d-4d5f-dabb-804d2e80864c"
      },
      "execution_count": 104,
      "outputs": [
        {
          "output_type": "stream",
          "name": "stdout",
          "text": [
            "brokered_by               9\n",
            "price                     0\n",
            "bed                       0\n",
            "bath                      0\n",
            "acre_lot                883\n",
            "city                      0\n",
            "state                     0\n",
            "zip_code                  0\n",
            "house_size                0\n",
            "days_since_last_sold      0\n",
            "dtype: int64\n"
          ]
        }
      ]
    },
    {
      "cell_type": "code",
      "source": [
        "df = df[df[\"acre_lot\"] != 0]\n",
        "df = df[df[\"brokered_by\"] != 0]"
      ],
      "metadata": {
        "id": "Dy5ehIblYbc8"
      },
      "execution_count": 105,
      "outputs": []
    },
    {
      "cell_type": "markdown",
      "source": [
        "##Removing outliers"
      ],
      "metadata": {
        "id": "DvCwvKZvY2Dt"
      }
    },
    {
      "cell_type": "markdown",
      "source": [
        "Removing outliers is an essential part to preprocessing before we train our actual ML model. But before we remove outliers, it's important to understand the goal of what we want our distribution to look like/what characteristics it should have:\n",
        "\n",
        "1.   We should aim to create a normal distribution, or at least close to normal. This will be benefical in producing good results for our model, because if our distribution is normal then our model won't be training on data that is biased towards low/high housing prices.\n",
        "2.   We should aim for our distribution to be realistic, meaning a reflection of the actual market. According to Zillow:\n",
        "\n",
        "![image.png](data:image/png;base64,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)\n",
        "\n",
        "Source: https://www.zillow.com/home-values/102001/united-states/\n",
        "#####We'll aim to have the average value in the price feature close to this price as well"
      ],
      "metadata": {
        "id": "yGyOueWAbNwC"
      }
    },
    {
      "cell_type": "code",
      "source": [
        "# df = a.copy()"
      ],
      "metadata": {
        "id": "qHWmntJz9L0e"
      },
      "execution_count": 106,
      "outputs": []
    },
    {
      "cell_type": "code",
      "source": [
        "a = df.copy()"
      ],
      "metadata": {
        "id": "ITptV72xmghp"
      },
      "execution_count": 107,
      "outputs": []
    },
    {
      "cell_type": "code",
      "source": [
        "a[\"price\"].mean()"
      ],
      "metadata": {
        "colab": {
          "base_uri": "https://localhost:8080/"
        },
        "id": "u2OPwz5qQkc4",
        "outputId": "04c002d0-4ebe-4fa2-b298-bac7b61a9955"
      },
      "execution_count": 108,
      "outputs": [
        {
          "output_type": "execute_result",
          "data": {
            "text/plain": [
              "513575.0260886246"
            ]
          },
          "metadata": {},
          "execution_count": 108
        }
      ]
    },
    {
      "cell_type": "markdown",
      "source": [
        "Let's take a look at our most important feature distribution: price"
      ],
      "metadata": {
        "id": "2YLQp6qhrRAc"
      }
    },
    {
      "cell_type": "code",
      "source": [
        "def plot_series_value_counts_percentage_distribution(df, col, bin_size):\n",
        "  price_groups = []\n",
        "  num_in_each_price_group = []\n",
        "  for price in range(int(df[col].min()), int(df[col].max())+bin_size, bin_size):\n",
        "    percentage = len(df[(df[col] >= price - bin_size) & (df[col] <= price)]) / len(df)\n",
        "    if(percentage >= 0.02):\n",
        "      price_groups.append(price)\n",
        "      num_in_each_price_group.append(percentage)\n",
        "\n",
        "  price_groups[-1]-df[col].max()\n",
        "\n",
        "  plt.figure(figsize=(10, 6))\n",
        "  plt.bar(price_groups, num_in_each_price_group, width=60000)\n",
        "  plt.xlabel(\"Price Group\")\n",
        "  plt.ylabel(\"Percentage\")\n",
        "  plt.xticks(price_groups, [f\"{price // 1000}k\" for price in price_groups])\n",
        "  plt.title(\"Df Price Percentage Distribution\")\n",
        "  plt.show()"
      ],
      "metadata": {
        "id": "qgsXPVLpDxOG"
      },
      "execution_count": 109,
      "outputs": []
    },
    {
      "cell_type": "code",
      "source": [
        "plot_series_value_counts_percentage_distribution(df, \"price\", 100000)"
      ],
      "metadata": {
        "colab": {
          "base_uri": "https://localhost:8080/",
          "height": 569
        },
        "id": "WnHB30LND1Ba",
        "outputId": "6eba6a1d-8c2c-4fa3-9733-a46cca986762"
      },
      "execution_count": 141,
      "outputs": [
        {
          "output_type": "display_data",
          "data": {
            "text/plain": [
              "<Figure size 1000x600 with 1 Axes>"
            ],
            "image/png": "[encoded data removed]"
          },
          "metadata": {}
        }
      ]
    },
    {
      "cell_type": "markdown",
      "source": [
        "Based on this graph, it is clear that some rows in our dataset (below 200k-250k) are likely condos, townhouses, etc. Just an observation\n",
        "\n",
        "Remember the 2 conditions we just talked about above. If we relate them to our current price distribution, we can see that our data is clearly right skewed, meaning it's not normal and its' average value is higher than the ~360k average we are aiming for. We can confirm this"
      ],
      "metadata": {
        "id": "tyUJcId3rO59"
      }
    },
    {
      "cell_type": "code",
      "source": [
        "df[\"price\"].mean()"
      ],
      "metadata": {
        "colab": {
          "base_uri": "https://localhost:8080/"
        },
        "id": "IIcktqq7sJKN",
        "outputId": "63c2a907-2c00-4eb4-b9cd-3a3f33eaed5c"
      },
      "execution_count": 111,
      "outputs": [
        {
          "output_type": "execute_result",
          "data": {
            "text/plain": [
              "513575.0260886246"
            ]
          },
          "metadata": {},
          "execution_count": 111
        }
      ]
    },
    {
      "cell_type": "code",
      "source": [
        "df.shape"
      ],
      "metadata": {
        "colab": {
          "base_uri": "https://localhost:8080/"
        },
        "id": "OfnYoIXf0Oxm",
        "outputId": "88496407-8f13-4c1e-f931-47a63a5d6464"
      },
      "execution_count": 112,
      "outputs": [
        {
          "output_type": "execute_result",
          "data": {
            "text/plain": [
              "(615134, 10)"
            ]
          },
          "metadata": {},
          "execution_count": 112
        }
      ]
    },
    {
      "cell_type": "markdown",
      "source": [
        "Let's use the IQR method to fix this. To anyone who understands IQR well, I programmed it a little differently. Given the right skew.\n",
        "\n",
        "\n",
        "\n",
        "*   I made the IQR larger for the right threshold\n",
        "*   Our left threshold for IQR will definitely be negative, as the formula will not aim to make a right skew even more biased. However, there are values below 100k, which is not practical at all:\n",
        "\n"
      ],
      "metadata": {
        "id": "qodVOusAsPt0"
      }
    },
    {
      "cell_type": "code",
      "source": [
        "df.loc[df[\"price\"] < 100000]"
      ],
      "metadata": {
        "colab": {
          "base_uri": "https://localhost:8080/",
          "height": 424
        },
        "id": "55QwEYLpvMf8",
        "outputId": "e93d851f-b5cc-44f8-de05-ed0642cd03ef"
      },
      "execution_count": 113,
      "outputs": [
        {
          "output_type": "execute_result",
          "data": {
            "text/plain": [
              "        brokered_by    price  bed  bath  acre_lot           city        state zip_code  house_size  days_since_last_sold\n",
              "1414376    61711.00 90000.00 3.00  2.00      0.08      Aguadilla  Puerto Rico   603.00     1421.00                   836\n",
              "1414377    49592.00 22500.00 2.00  1.00      0.32         Anasco  Puerto Rico   610.00      850.00                   764\n",
              "1414399   103780.00 95000.00 2.55  1.49      0.09  Sabana Grande  Puerto Rico   637.00     1603.00                   835\n",
              "1414400   103780.00 70000.00 2.00  1.00      2.91         Utuado  Puerto Rico   641.00      755.00                   826\n",
              "1414405    49045.00 95000.00 3.00  1.00      0.08        Guanica  Puerto Rico   653.00     1200.00                   765\n",
              "...             ...      ...  ...   ...       ...            ...          ...      ...         ...                   ...\n",
              "2224853   108321.00 99900.00 2.00  2.00      0.28       Republic   Washington 99166.00     1056.00                   700\n",
              "2224855   108383.00 49900.00 2.00  1.00      1.28       Republic   Washington 99166.00      896.00                   722\n",
              "2225552      637.00 54900.00 2.00  2.00      0.06        Spokane   Washington 99224.00      924.00                   668\n",
              "2225740     8200.00 90000.00 3.00  2.00      0.16       Prescott   Washington 99348.00     1624.00                   785\n",
              "2225873    85499.00 64900.00 2.00  1.00      0.01       Richland   Washington 99352.00      784.00                   794\n",
              "\n",
              "[28014 rows x 10 columns]"
            ],
            "text/html": [
              "\n",
              "  <div id=\"df-59ca6041-16b7-44bc-bfc1-c4b9411eb422\" class=\"colab-df-container\">\n",
              "    <div>\n",
              "<style scoped>\n",
              "    .dataframe tbody tr th:only-of-type {\n",
              "        vertical-align: middle;\n",
              "    }\n",
              "\n",
              "    .dataframe tbody tr th {\n",
              "        vertical-align: top;\n",
              "    }\n",
              "\n",
              "    .dataframe thead th {\n",
              "        text-align: right;\n",
              "    }\n",
              "</style>\n",
              "<table border=\"1\" class=\"dataframe\">\n",
              "  <thead>\n",
              "    <tr style=\"text-align: right;\">\n",
              "      <th></th>\n",
              "      <th>brokered_by</th>\n",
              "      <th>price</th>\n",
              "      <th>bed</th>\n",
              "      <th>bath</th>\n",
              "      <th>acre_lot</th>\n",
              "      <th>city</th>\n",
              "      <th>state</th>\n",
              "      <th>zip_code</th>\n",
              "      <th>house_size</th>\n",
              "      <th>days_since_last_sold</th>\n",
              "    </tr>\n",
              "  </thead>\n",
              "  <tbody>\n",
              "    <tr>\n",
              "      <th>1414376</th>\n",
              "      <td>61711.00</td>\n",
              "      <td>90000.00</td>\n",
              "      <td>3.00</td>\n",
              "      <td>2.00</td>\n",
              "      <td>0.08</td>\n",
              "      <td>Aguadilla</td>\n",
              "      <td>Puerto Rico</td>\n",
              "      <td>603.00</td>\n",
              "      <td>1421.00</td>\n",
              "      <td>836</td>\n",
              "    </tr>\n",
              "    <tr>\n",
              "      <th>1414377</th>\n",
              "      <td>49592.00</td>\n",
              "      <td>22500.00</td>\n",
              "      <td>2.00</td>\n",
              "      <td>1.00</td>\n",
              "      <td>0.32</td>\n",
              "      <td>Anasco</td>\n",
              "      <td>Puerto Rico</td>\n",
              "      <td>610.00</td>\n",
              "      <td>850.00</td>\n",
              "      <td>764</td>\n",
              "    </tr>\n",
              "    <tr>\n",
              "      <th>1414399</th>\n",
              "      <td>103780.00</td>\n",
              "      <td>95000.00</td>\n",
              "      <td>2.55</td>\n",
              "      <td>1.49</td>\n",
              "      <td>0.09</td>\n",
              "      <td>Sabana Grande</td>\n",
              "      <td>Puerto Rico</td>\n",
              "      <td>637.00</td>\n",
              "      <td>1603.00</td>\n",
              "      <td>835</td>\n",
              "    </tr>\n",
              "    <tr>\n",
              "      <th>1414400</th>\n",
              "      <td>103780.00</td>\n",
              "      <td>70000.00</td>\n",
              "      <td>2.00</td>\n",
              "      <td>1.00</td>\n",
              "      <td>2.91</td>\n",
              "      <td>Utuado</td>\n",
              "      <td>Puerto Rico</td>\n",
              "      <td>641.00</td>\n",
              "      <td>755.00</td>\n",
              "      <td>826</td>\n",
              "    </tr>\n",
              "    <tr>\n",
              "      <th>1414405</th>\n",
              "      <td>49045.00</td>\n",
              "      <td>95000.00</td>\n",
              "      <td>3.00</td>\n",
              "      <td>1.00</td>\n",
              "      <td>0.08</td>\n",
              "      <td>Guanica</td>\n",
              "      <td>Puerto Rico</td>\n",
              "      <td>653.00</td>\n",
              "      <td>1200.00</td>\n",
              "      <td>765</td>\n",
              "    </tr>\n",
              "    <tr>\n",
              "      <th>...</th>\n",
              "      <td>...</td>\n",
              "      <td>...</td>\n",
              "      <td>...</td>\n",
              "      <td>...</td>\n",
              "      <td>...</td>\n",
              "      <td>...</td>\n",
              "      <td>...</td>\n",
              "      <td>...</td>\n",
              "      <td>...</td>\n",
              "      <td>...</td>\n",
              "    </tr>\n",
              "    <tr>\n",
              "      <th>2224853</th>\n",
              "      <td>108321.00</td>\n",
              "      <td>99900.00</td>\n",
              "      <td>2.00</td>\n",
              "      <td>2.00</td>\n",
              "      <td>0.28</td>\n",
              "      <td>Republic</td>\n",
              "      <td>Washington</td>\n",
              "      <td>99166.00</td>\n",
              "      <td>1056.00</td>\n",
              "      <td>700</td>\n",
              "    </tr>\n",
              "    <tr>\n",
              "      <th>2224855</th>\n",
              "      <td>108383.00</td>\n",
              "      <td>49900.00</td>\n",
              "      <td>2.00</td>\n",
              "      <td>1.00</td>\n",
              "      <td>1.28</td>\n",
              "      <td>Republic</td>\n",
              "      <td>Washington</td>\n",
              "      <td>99166.00</td>\n",
              "      <td>896.00</td>\n",
              "      <td>722</td>\n",
              "    </tr>\n",
              "    <tr>\n",
              "      <th>2225552</th>\n",
              "      <td>637.00</td>\n",
              "      <td>54900.00</td>\n",
              "      <td>2.00</td>\n",
              "      <td>2.00</td>\n",
              "      <td>0.06</td>\n",
              "      <td>Spokane</td>\n",
              "      <td>Washington</td>\n",
              "      <td>99224.00</td>\n",
              "      <td>924.00</td>\n",
              "      <td>668</td>\n",
              "    </tr>\n",
              "    <tr>\n",
              "      <th>2225740</th>\n",
              "      <td>8200.00</td>\n",
              "      <td>90000.00</td>\n",
              "      <td>3.00</td>\n",
              "      <td>2.00</td>\n",
              "      <td>0.16</td>\n",
              "      <td>Prescott</td>\n",
              "      <td>Washington</td>\n",
              "      <td>99348.00</td>\n",
              "      <td>1624.00</td>\n",
              "      <td>785</td>\n",
              "    </tr>\n",
              "    <tr>\n",
              "      <th>2225873</th>\n",
              "      <td>85499.00</td>\n",
              "      <td>64900.00</td>\n",
              "      <td>2.00</td>\n",
              "      <td>1.00</td>\n",
              "      <td>0.01</td>\n",
              "      <td>Richland</td>\n",
              "      <td>Washington</td>\n",
              "      <td>99352.00</td>\n",
              "      <td>784.00</td>\n",
              "      <td>794</td>\n",
              "    </tr>\n",
              "  </tbody>\n",
              "</table>\n",
              "<p>28014 rows × 10 columns</p>\n",
              "</div>\n",
              "    <div class=\"colab-df-buttons\">\n",
              "\n",
              "  <div class=\"colab-df-container\">\n",
              "    <button class=\"colab-df-convert\" onclick=\"convertToInteractive('df-59ca6041-16b7-44bc-bfc1-c4b9411eb422')\"\n",
              "            title=\"Convert this dataframe to an interactive table.\"\n",
              "            style=\"display:none;\">\n",
              "\n",
              "  <svg xmlns=\"http://www.w3.org/2000/svg\" height=\"24px\" viewBox=\"0 -960 960 960\">\n",
              "    <path d=\"M120-120v-720h720v720H120Zm60-500h600v-160H180v160Zm220 220h160v-160H400v160Zm0 220h160v-160H400v160ZM180-400h160v-160H180v160Zm440 0h160v-160H620v160ZM180-180h160v-160H180v160Zm440 0h160v-160H620v160Z\"/>\n",
              "  </svg>\n",
              "    </button>\n",
              "\n",
              "  <style>\n",
              "    .colab-df-container {\n",
              "      display:flex;\n",
              "      gap: 12px;\n",
              "    }\n",
              "\n",
              "    .colab-df-convert {\n",
              "      background-color: #E8F0FE;\n",
              "      border: none;\n",
              "      border-radius: 50%;\n",
              "      cursor: pointer;\n",
              "      display: none;\n",
              "      fill: #1967D2;\n",
              "      height: 32px;\n",
              "      padding: 0 0 0 0;\n",
              "      width: 32px;\n",
              "    }\n",
              "\n",
              "    .colab-df-convert:hover {\n",
              "      background-color: #E2EBFA;\n",
              "      box-shadow: 0px 1px 2px rgba(60, 64, 67, 0.3), 0px 1px 3px 1px rgba(60, 64, 67, 0.15);\n",
              "      fill: #174EA6;\n",
              "    }\n",
              "\n",
              "    .colab-df-buttons div {\n",
              "      margin-bottom: 4px;\n",
              "    }\n",
              "\n",
              "    [theme=dark] .colab-df-convert {\n",
              "      background-color: #3B4455;\n",
              "      fill: #D2E3FC;\n",
              "    }\n",
              "\n",
              "    [theme=dark] .colab-df-convert:hover {\n",
              "      background-color: #434B5C;\n",
              "      box-shadow: 0px 1px 3px 1px rgba(0, 0, 0, 0.15);\n",
              "      filter: drop-shadow(0px 1px 2px rgba(0, 0, 0, 0.3));\n",
              "      fill: #FFFFFF;\n",
              "    }\n",
              "  </style>\n",
              "\n",
              "    <script>\n",
              "      const buttonEl =\n",
              "        document.querySelector('#df-59ca6041-16b7-44bc-bfc1-c4b9411eb422 button.colab-df-convert');\n",
              "      buttonEl.style.display =\n",
              "        google.colab.kernel.accessAllowed ? 'block' : 'none';\n",
              "\n",
              "      async function convertToInteractive(key) {\n",
              "        const element = document.querySelector('#df-59ca6041-16b7-44bc-bfc1-c4b9411eb422');\n",
              "        const dataTable =\n",
              "          await google.colab.kernel.invokeFunction('convertToInteractive',\n",
              "                                                    [key], {});\n",
              "        if (!dataTable) return;\n",
              "\n",
              "        const docLinkHtml = 'Like what you see? Visit the ' +\n",
              "          '<a target=\"_blank\" href=https://colab.research.google.com/notebooks/data_table.ipynb>data table notebook</a>'\n",
              "          + ' to learn more about interactive tables.';\n",
              "        element.innerHTML = '';\n",
              "        dataTable['output_type'] = 'display_data';\n",
              "        await google.colab.output.renderOutput(dataTable, element);\n",
              "        const docLink = document.createElement('div');\n",
              "        docLink.innerHTML = docLinkHtml;\n",
              "        element.appendChild(docLink);\n",
              "      }\n",
              "    </script>\n",
              "  </div>\n",
              "\n",
              "\n",
              "<div id=\"df-9775c195-e17b-4294-831f-a7eaa11c5ee8\">\n",
              "  <button class=\"colab-df-quickchart\" onclick=\"quickchart('df-9775c195-e17b-4294-831f-a7eaa11c5ee8')\"\n",
              "            title=\"Suggest charts\"\n",
              "            style=\"display:none;\">\n",
              "\n",
              "<svg xmlns=\"http://www.w3.org/2000/svg\" height=\"24px\"viewBox=\"0 0 24 24\"\n",
              "     width=\"24px\">\n",
              "    <g>\n",
              "        <path d=\"M19 3H5c-1.1 0-2 .9-2 2v14c0 1.1.9 2 2 2h14c1.1 0 2-.9 2-2V5c0-1.1-.9-2-2-2zM9 17H7v-7h2v7zm4 0h-2V7h2v10zm4 0h-2v-4h2v4z\"/>\n",
              "    </g>\n",
              "</svg>\n",
              "  </button>\n",
              "\n",
              "<style>\n",
              "  .colab-df-quickchart {\n",
              "      --bg-color: #E8F0FE;\n",
              "      --fill-color: #1967D2;\n",
              "      --hover-bg-color: #E2EBFA;\n",
              "      --hover-fill-color: #174EA6;\n",
              "      --disabled-fill-color: #AAA;\n",
              "      --disabled-bg-color: #DDD;\n",
              "  }\n",
              "\n",
              "  [theme=dark] .colab-df-quickchart {\n",
              "      --bg-color: #3B4455;\n",
              "      --fill-color: #D2E3FC;\n",
              "      --hover-bg-color: #434B5C;\n",
              "      --hover-fill-color: #FFFFFF;\n",
              "      --disabled-bg-color: #3B4455;\n",
              "      --disabled-fill-color: #666;\n",
              "  }\n",
              "\n",
              "  .colab-df-quickchart {\n",
              "    background-color: var(--bg-color);\n",
              "    border: none;\n",
              "    border-radius: 50%;\n",
              "    cursor: pointer;\n",
              "    display: none;\n",
              "    fill: var(--fill-color);\n",
              "    height: 32px;\n",
              "    padding: 0;\n",
              "    width: 32px;\n",
              "  }\n",
              "\n",
              "  .colab-df-quickchart:hover {\n",
              "    background-color: var(--hover-bg-color);\n",
              "    box-shadow: 0 1px 2px rgba(60, 64, 67, 0.3), 0 1px 3px 1px rgba(60, 64, 67, 0.15);\n",
              "    fill: var(--button-hover-fill-color);\n",
              "  }\n",
              "\n",
              "  .colab-df-quickchart-complete:disabled,\n",
              "  .colab-df-quickchart-complete:disabled:hover {\n",
              "    background-color: var(--disabled-bg-color);\n",
              "    fill: var(--disabled-fill-color);\n",
              "    box-shadow: none;\n",
              "  }\n",
              "\n",
              "  .colab-df-spinner {\n",
              "    border: 2px solid var(--fill-color);\n",
              "    border-color: transparent;\n",
              "    border-bottom-color: var(--fill-color);\n",
              "    animation:\n",
              "      spin 1s steps(1) infinite;\n",
              "  }\n",
              "\n",
              "  @keyframes spin {\n",
              "    0% {\n",
              "      border-color: transparent;\n",
              "      border-bottom-color: var(--fill-color);\n",
              "      border-left-color: var(--fill-color);\n",
              "    }\n",
              "    20% {\n",
              "      border-color: transparent;\n",
              "      border-left-color: var(--fill-color);\n",
              "      border-top-color: var(--fill-color);\n",
              "    }\n",
              "    30% {\n",
              "      border-color: transparent;\n",
              "      border-left-color: var(--fill-color);\n",
              "      border-top-color: var(--fill-color);\n",
              "      border-right-color: var(--fill-color);\n",
              "    }\n",
              "    40% {\n",
              "      border-color: transparent;\n",
              "      border-right-color: var(--fill-color);\n",
              "      border-top-color: var(--fill-color);\n",
              "    }\n",
              "    60% {\n",
              "      border-color: transparent;\n",
              "      border-right-color: var(--fill-color);\n",
              "    }\n",
              "    80% {\n",
              "      border-color: transparent;\n",
              "      border-right-color: var(--fill-color);\n",
              "      border-bottom-color: var(--fill-color);\n",
              "    }\n",
              "    90% {\n",
              "      border-color: transparent;\n",
              "      border-bottom-color: var(--fill-color);\n",
              "    }\n",
              "  }\n",
              "</style>\n",
              "\n",
              "  <script>\n",
              "    async function quickchart(key) {\n",
              "      const quickchartButtonEl =\n",
              "        document.querySelector('#' + key + ' button');\n",
              "      quickchartButtonEl.disabled = true;  // To prevent multiple clicks.\n",
              "      quickchartButtonEl.classList.add('colab-df-spinner');\n",
              "      try {\n",
              "        const charts = await google.colab.kernel.invokeFunction(\n",
              "            'suggestCharts', [key], {});\n",
              "      } catch (error) {\n",
              "        console.error('Error during call to suggestCharts:', error);\n",
              "      }\n",
              "      quickchartButtonEl.classList.remove('colab-df-spinner');\n",
              "      quickchartButtonEl.classList.add('colab-df-quickchart-complete');\n",
              "    }\n",
              "    (() => {\n",
              "      let quickchartButtonEl =\n",
              "        document.querySelector('#df-9775c195-e17b-4294-831f-a7eaa11c5ee8 button');\n",
              "      quickchartButtonEl.style.display =\n",
              "        google.colab.kernel.accessAllowed ? 'block' : 'none';\n",
              "    })();\n",
              "  </script>\n",
              "</div>\n",
              "\n",
              "    </div>\n",
              "  </div>\n"
            ],
            "application/vnd.google.colaboratory.intrinsic+json": {
              "type": "dataframe",
              "summary": "{\n  \"name\": \"df\",\n  \"rows\": 28014,\n  \"fields\": [\n    {\n      \"column\": \"brokered_by\",\n      \"properties\": {\n        \"dtype\": \"category\",\n        \"num_unique_values\": 7975,\n        \"samples\": [\n          51824.0,\n          83639.0,\n          76252.0\n        ],\n        \"semantic_type\": \"\",\n        \"description\": \"\"\n      }\n    },\n    {\n      \"column\": \"price\",\n      \"properties\": {\n        \"dtype\": \"number\",\n        \"std\": 22551.119370095406,\n        \"min\": 1.0,\n        \"max\": 99999.0,\n        \"num_unique_values\": 1042,\n        \"samples\": [\n          93250.0,\n          96700.0,\n          86300.0\n        ],\n        \"semantic_type\": \"\",\n        \"description\": \"\"\n      }\n    },\n    {\n      \"column\": \"bed\",\n      \"properties\": {\n        \"dtype\": \"number\",\n        \"std\": 0.9064942380803857,\n        \"min\": 1.0,\n        \"max\": 10.0,\n        \"num_unique_values\": 165,\n        \"samples\": [\n          2.4395604395604398,\n          2.25,\n          2.5526315789473686\n        ],\n        \"semantic_type\": \"\",\n        \"description\": \"\"\n      }\n    },\n    {\n      \"column\": \"bath\",\n      \"properties\": {\n        \"dtype\": \"number\",\n        \"std\": 0.5663452876537678,\n        \"min\": 1.0,\n        \"max\": 10.0,\n        \"num_unique_values\": 154,\n        \"samples\": [\n          1.5337662337662337,\n          1.5555555555555556,\n          1.3902439024390243\n        ],\n        \"semantic_type\": \"\",\n        \"description\": \"\"\n      }\n    },\n    {\n      \"column\": \"acre_lot\",\n      \"properties\": {\n        \"dtype\": \"number\",\n        \"std\": 1207.1059240536372,\n        \"min\": 0.01,\n        \"max\": 100000.0,\n        \"num_unique_values\": 788,\n        \"samples\": [\n          1.49,\n          0.46,\n          1.23\n        ],\n        \"semantic_type\": \"\",\n        \"description\": \"\"\n      }\n    },\n    {\n      \"column\": \"city\",\n      \"properties\": {\n        \"dtype\": \"category\",\n        \"num_unique_values\": 4434,\n        \"samples\": [\n          \"Nankin\",\n          \"Hadley\",\n          \"Lake George\"\n        ],\n        \"semantic_type\": \"\",\n        \"description\": \"\"\n      }\n    },\n    {\n      \"column\": \"state\",\n      \"properties\": {\n        \"dtype\": \"category\",\n        \"num_unique_values\": 45,\n        \"samples\": [\n          \"Washington\",\n          \"Wisconsin\",\n          \"Iowa\"\n        ],\n        \"semantic_type\": \"\",\n        \"description\": \"\"\n      }\n    },\n    {\n      \"column\": \"zip_code\",\n      \"properties\": {\n        \"dtype\": \"category\",\n        \"num_unique_values\": 6353,\n        \"samples\": [\n          45344.0,\n          92582.0,\n          73529.0\n        ],\n        \"semantic_type\": \"\",\n        \"description\": \"\"\n      }\n    },\n    {\n      \"column\": \"house_size\",\n      \"properties\": {\n        \"dtype\": \"number\",\n        \"std\": 809.325589868542,\n        \"min\": 100.0,\n        \"max\": 82740.0,\n        \"num_unique_values\": 2471,\n        \"samples\": [\n          2100.0,\n          827.0,\n          2458.0\n        ],\n        \"semantic_type\": \"\",\n        \"description\": \"\"\n      }\n    },\n    {\n      \"column\": \"days_since_last_sold\",\n      \"properties\": {\n        \"dtype\": \"number\",\n        \"std\": 54,\n        \"min\": 638,\n        \"max\": 837,\n        \"num_unique_values\": 183,\n        \"samples\": [\n          794,\n          744,\n          651\n        ],\n        \"semantic_type\": \"\",\n        \"description\": \"\"\n      }\n    }\n  ]\n}"
            }
          },
          "metadata": {},
          "execution_count": 113
        }
      ]
    },
    {
      "cell_type": "markdown",
      "source": [
        "Specifically over 70000 values over 100k.\n",
        "#####We'll classify prices under 100000 as outliers and remove them. This will balance out with the fact that the right IQR threshold will be higher"
      ],
      "metadata": {
        "id": "jYZXgllNvyyW"
      }
    },
    {
      "cell_type": "code",
      "source": [
        "pre_outlier_df_shape = df.shape[0]"
      ],
      "metadata": {
        "id": "TOUD7DO1--QF"
      },
      "execution_count": 114,
      "outputs": []
    },
    {
      "cell_type": "code",
      "source": [
        "df = a.copy()\n",
        "a = df.copy()\n",
        "\n",
        "def iqr(df, column):\n",
        "  Q1 = df[column].quantile(0.25)\n",
        "  Q3 = df[column].quantile(0.75)\n",
        "  IQR = Q3-Q1\n",
        "  print(IQR)\n",
        "  print(Q3, Q1)\n",
        "  first_threshold = 100000\n",
        "  second_threshold = Q3+0.5*IQR #A \"higher\" threshold is actually a multiplier < 1 applied to the IQR variable\n",
        "  print(f\"IQR: {IQR} | Q1, Q3: {Q1, Q3} | Values below {first_threshold} or above {second_threshold} will be removed from the dataframe\")\n",
        "  df = df[(df[column]>100000) & (df[column] < (second_threshold))]\n",
        "\n",
        "  print(f\"New df mean: {df[column].mean()}\")\n",
        "  print(f\"New df kurtosis: {df[column].kurt()}\") #test this again just test the whole function\n",
        "  return df\n",
        "\n",
        "df = iqr(df, \"price\").copy()\n",
        "plot_series_value_counts_percentage_distribution(df, \"price\", 100000)"
      ],
      "metadata": {
        "colab": {
          "base_uri": "https://localhost:8080/",
          "height": 656
        },
        "id": "CZZv9Hr5zUug",
        "outputId": "70fdbeec-0852-4696-9069-ea81282d8bc2"
      },
      "execution_count": 115,
      "outputs": [
        {
          "output_type": "stream",
          "name": "stdout",
          "text": [
            "354900.0\n",
            "589900.0 235000.0\n",
            "IQR: 354900.0 | Q1, Q3: (235000.0, 589900.0) | Values below 100000 or above 767350.0 will be removed from the dataframe\n",
            "New df mean: 365191.0155452276\n",
            "New df kurtosis: -0.5977267671968454\n"
          ]
        },
        {
          "output_type": "display_data",
          "data": {
            "text/plain": [
              "<Figure size 1000x600 with 1 Axes>"
            ],
            "image/png": "[encoded data removed]"
          },
          "metadata": {}
        }
      ]
    },
    {
      "cell_type": "markdown",
      "source": [
        "Amazing!\n",
        "\n",
        "*   The dataframe now has a distribution close to normal, as evidenced by the kurtosis value close to 0\n",
        "*   The mean price for our US housing dataframe is now 365k, practically the same as the actual mean house price in the US of 360k\n",
        "*   The range of the prices is a very reasonable and practical range between 100k to 767k\n"
      ],
      "metadata": {
        "id": "p3FfeckawTBz"
      }
    },
    {
      "cell_type": "code",
      "source": [
        "post_outlier_df_shape = df.shape[0]\n",
        "post_outlier_df_shape"
      ],
      "metadata": {
        "id": "4cIEfZs_0NVH",
        "colab": {
          "base_uri": "https://localhost:8080/"
        },
        "outputId": "e74fe195-3c9d-4638-97c5-303b1c80529b"
      },
      "execution_count": 116,
      "outputs": [
        {
          "output_type": "execute_result",
          "data": {
            "text/plain": [
              "493592"
            ]
          },
          "metadata": {},
          "execution_count": 116
        }
      ]
    },
    {
      "cell_type": "code",
      "source": [
        "pre_outlier_df_shape - post_outlier_df_shape"
      ],
      "metadata": {
        "id": "LlU4m3uQorU8",
        "colab": {
          "base_uri": "https://localhost:8080/"
        },
        "outputId": "14d20826-f045-46ad-d50b-2d8981f37efd"
      },
      "execution_count": 117,
      "outputs": [
        {
          "output_type": "execute_result",
          "data": {
            "text/plain": [
              "121542"
            ]
          },
          "metadata": {},
          "execution_count": 117
        }
      ]
    },
    {
      "cell_type": "code",
      "source": [
        "print(f\"{((pre_outlier_df_shape - post_outlier_df_shape)/pre_outlier_df_shape)*100}% of the df was removed using our outlier detection method\")"
      ],
      "metadata": {
        "id": "-beJlDIpodTU",
        "colab": {
          "base_uri": "https://localhost:8080/"
        },
        "outputId": "1cc72999-5b39-435d-92ec-030db8854416"
      },
      "execution_count": 118,
      "outputs": [
        {
          "output_type": "stream",
          "name": "stdout",
          "text": [
            "19.75862169868679% of the df was removed using our outlier detection method\n"
          ]
        }
      ]
    },
    {
      "cell_type": "code",
      "source": [
        "df[\"price\"].describe()"
      ],
      "metadata": {
        "colab": {
          "base_uri": "https://localhost:8080/",
          "height": 335
        },
        "id": "WW_BL0ZOv6xk",
        "outputId": "8f86ce82-ff8e-4627-fde4-1d2f5d71ac0a"
      },
      "execution_count": 119,
      "outputs": [
        {
          "output_type": "execute_result",
          "data": {
            "text/plain": [
              "count   493592.00\n",
              "mean    365191.02\n",
              "std     164121.08\n",
              "min     100250.00\n",
              "25%     235000.00\n",
              "50%     340000.00\n",
              "75%     475000.00\n",
              "max     767340.00\n",
              "Name: price, dtype: float64"
            ],
            "text/html": [
              "<div>\n",
              "<style scoped>\n",
              "    .dataframe tbody tr th:only-of-type {\n",
              "        vertical-align: middle;\n",
              "    }\n",
              "\n",
              "    .dataframe tbody tr th {\n",
              "        vertical-align: top;\n",
              "    }\n",
              "\n",
              "    .dataframe thead th {\n",
              "        text-align: right;\n",
              "    }\n",
              "</style>\n",
              "<table border=\"1\" class=\"dataframe\">\n",
              "  <thead>\n",
              "    <tr style=\"text-align: right;\">\n",
              "      <th></th>\n",
              "      <th>price</th>\n",
              "    </tr>\n",
              "  </thead>\n",
              "  <tbody>\n",
              "    <tr>\n",
              "      <th>count</th>\n",
              "      <td>493592.00</td>\n",
              "    </tr>\n",
              "    <tr>\n",
              "      <th>mean</th>\n",
              "      <td>365191.02</td>\n",
              "    </tr>\n",
              "    <tr>\n",
              "      <th>std</th>\n",
              "      <td>164121.08</td>\n",
              "    </tr>\n",
              "    <tr>\n",
              "      <th>min</th>\n",
              "      <td>100250.00</td>\n",
              "    </tr>\n",
              "    <tr>\n",
              "      <th>25%</th>\n",
              "      <td>235000.00</td>\n",
              "    </tr>\n",
              "    <tr>\n",
              "      <th>50%</th>\n",
              "      <td>340000.00</td>\n",
              "    </tr>\n",
              "    <tr>\n",
              "      <th>75%</th>\n",
              "      <td>475000.00</td>\n",
              "    </tr>\n",
              "    <tr>\n",
              "      <th>max</th>\n",
              "      <td>767340.00</td>\n",
              "    </tr>\n",
              "  </tbody>\n",
              "</table>\n",
              "</div><br><label><b>dtype:</b> float64</label>"
            ]
          },
          "metadata": {},
          "execution_count": 119
        }
      ]
    },
    {
      "cell_type": "markdown",
      "source": [
        "#3. Machine Learning"
      ],
      "metadata": {
        "id": "cV8cB1To6SuI"
      }
    },
    {
      "cell_type": "markdown",
      "source": [
        "####Brief explanation of my ML process\n",
        "It may come as no surprise that this is the section I spent by far the most time on. I tried using a variety of different models, many of which were from the **scikit-learn** library. Some of the models I tried include Logistic Regression, XGBoost, Catboost, Ridge, Linear Regression, Decision Tree, and Random Forest. I ended up choosing lgb (LightGBM). Some of the other models I tried did not produce results that were as good as lgb. Ridge, for example, only achieved a MAE score of around 80000. Other models I tried I ended up not having the computing power to be able to train, such as Random Forest.\n",
        "#####I also spent time on hyperparameter tuning using RandomizedSearchCV.\n",
        "#####All the ML + hyperparameter tuning code is below:"
      ],
      "metadata": {
        "id": "N45sJCgy6Ng2"
      }
    },
    {
      "cell_type": "code",
      "source": [
        "import warnings\n",
        "warnings.filterwarnings(\"ignore\", category=UserWarning, module=\"sklearn.preprocessing._encoders\")\n",
        "\n",
        "from sklearn.preprocessing import StandardScaler\n",
        "from sklearn.model_selection import train_test_split\n",
        "from sklearn.model_selection import cross_val_score, KFold\n",
        "import lightgbm as lgb\n",
        "from sklearn.model_selection import RandomizedSearchCV\n",
        "from scipy.stats import randint, uniform\n",
        "\n",
        "X = df.drop(columns=[\"price\"]).copy()\n",
        "y = df[[\"price\"]].copy()\n",
        "y = y.values.ravel()\n",
        "\n",
        "numeric_features = X.select_dtypes(include=[\"float64\"]).columns.tolist()\n",
        "categorical_features = X.select_dtypes(include=[\"category\"]).columns.tolist()\n",
        "\n",
        "scaler = StandardScaler() #This will cause some rows in the numerical features to be negative\n",
        "X[numeric_features] = scaler.fit_transform(X[numeric_features])\n",
        "\n",
        "X_train, X_test, y_train, y_test = train_test_split(X, y, test_size=0.2, random_state=24)\n",
        "\n",
        "kf = KFold(n_splits=5, shuffle=True, random_state=24)\n",
        "\n",
        "#Commented out, given that I already have a list of best parameters\n",
        "\n",
        "# param_list = {\n",
        "#     \"reg_lambda\": uniform(0, 1.0),\n",
        "#     \"n_estimators\": randint(150, 500),\n",
        "#     \"colsample_bytree\": uniform(0.6, 0.4),\n",
        "#     \"min_child_samples\": randint(10, 100),\n",
        "#     \"subsample\": uniform(0.6, 0.4),\n",
        "#     \"learning_rate\": uniform(0.1, 0.04),\n",
        "#     \"max_depth\": randint(7, 15),\n",
        "#     \"num_leaves\": randint(14, 30),\n",
        "#     \"reg_alpha\": uniform(0, 1.0),\n",
        "# }\n",
        "\n",
        "# rs_cv = RandomizedSearchCV(lgb.LGBMRegressor(), param_distributions=param_dist,\n",
        "#                                    scoring=\"neg_mean_absolute_error\",\n",
        "#                                    n_jobs=-1, n_iter=30, cv=5, random_state=24, verbose=1)\n",
        "\n",
        "# rs_cv.fit(X_train, y_train)\n",
        "\n",
        "# print(random_search.best_params_)\n"
      ],
      "metadata": {
        "id": "tNMbdjuEv5gY"
      },
      "execution_count": 134,
      "outputs": []
    },
    {
      "cell_type": "code",
      "source": [
        "best_params = {\n",
        "    \"reg_lambda\": 0.31880625349828406,\n",
        "    \"n_estimators\": 445,\n",
        "    \"colsample_bytree\": 0.6353911304922466,\n",
        "    \"min_child_samples\": 30,\n",
        "    \"subsample\": 0.7490748848110026,\n",
        "    \"learning_rate\": 0.12062714059397683,\n",
        "    \"max_depth\": 12,\n",
        "    \"num_leaves\": 35,\n",
        "    \"reg_alpha\": 0.3847607774222854,\n",
        "    \"verbosity\": 0,\n",
        "    \"max_bin\": 500\n",
        "}\n",
        "\n",
        "model = lgb.LGBMRegressor(**best_params)\n",
        "\n",
        "cv_r2_scores = cross_val_score(model, X, y, cv=kf, error_score=\"raise\")\n",
        "\n",
        "#Training the model\n",
        "model.fit(X_train, y_train) #Train the actual pipeline on the training data\n",
        "y_pred = model.predict(X_test) #Generate predictions with the pipeline\n",
        "MAE = np.mean(abs(y_pred-y_test))\n",
        "\n",
        "test_score = model.score(X_test, y_test)\n",
        "print(f\"CV Score | Pipeline Test Score: {cv_r2_scores.mean()} | {test_score}\")\n",
        "print(\"\\033[1m\" + f\"MAE: {MAE}\" + \"\\033[0m\")\n"
      ],
      "metadata": {
        "colab": {
          "base_uri": "https://localhost:8080/"
        },
        "id": "E4upbR_SgB5g",
        "outputId": "1ae9d362-046b-4579-f2fd-2000f6ff718b"
      },
      "execution_count": 136,
      "outputs": [
        {
          "output_type": "stream",
          "name": "stdout",
          "text": [
            "[LightGBM] [Warning] Categorical features with more bins than the configured maximum bin number found.\n",
            "[LightGBM] [Warning] For categorical features, max_bin and max_bin_by_feature may be ignored with a large number of categories.\n",
            "[LightGBM] [Warning] Categorical features with more bins than the configured maximum bin number found.\n",
            "[LightGBM] [Warning] For categorical features, max_bin and max_bin_by_feature may be ignored with a large number of categories.\n",
            "[LightGBM] [Warning] Categorical features with more bins than the configured maximum bin number found.\n",
            "[LightGBM] [Warning] For categorical features, max_bin and max_bin_by_feature may be ignored with a large number of categories.\n",
            "[LightGBM] [Warning] Categorical features with more bins than the configured maximum bin number found.\n",
            "[LightGBM] [Warning] For categorical features, max_bin and max_bin_by_feature may be ignored with a large number of categories.\n",
            "[LightGBM] [Warning] Categorical features with more bins than the configured maximum bin number found.\n",
            "[LightGBM] [Warning] For categorical features, max_bin and max_bin_by_feature may be ignored with a large number of categories.\n",
            "[LightGBM] [Warning] Categorical features with more bins than the configured maximum bin number found.\n",
            "[LightGBM] [Warning] For categorical features, max_bin and max_bin_by_feature may be ignored with a large number of categories.\n",
            "CV Score | Pipeline Test Score: 0.8155118236109979 | 0.8142408998486622\n",
            "\u001b[1mMAE: 49932.195891222196\u001b[0m\n"
          ]
        }
      ]
    },
    {
      "cell_type": "markdown",
      "source": [
        "#####The consistency between the cross validation and model R² scores shows that our model is not overfitting by the slightest.\n",
        "#####Let's now take a look at our predictions vs the sale prices, side-by-side!"
      ],
      "metadata": {
        "id": "Nv1SxKQv_Rwt"
      }
    },
    {
      "cell_type": "code",
      "source": [
        "X_test[\"price\"] = y_test"
      ],
      "metadata": {
        "id": "IZ-uMBghTVxO"
      },
      "execution_count": 137,
      "outputs": []
    },
    {
      "cell_type": "code",
      "source": [
        "X_test[\"price_prediction\"] = y_pred"
      ],
      "metadata": {
        "id": "cCe95qYIAb-b"
      },
      "execution_count": 138,
      "outputs": []
    },
    {
      "cell_type": "code",
      "source": [
        "X_test[\"MAE\"] = abs(y_test-y_pred)"
      ],
      "metadata": {
        "id": "82RvkrP1Tc_9"
      },
      "execution_count": 139,
      "outputs": []
    },
    {
      "cell_type": "code",
      "source": [
        "X_test.sample(5)"
      ],
      "metadata": {
        "colab": {
          "base_uri": "https://localhost:8080/",
          "height": 206
        },
        "id": "eWvzUbYHILuA",
        "outputId": "54528105-67ad-4ab5-da3c-f6d29df5a739"
      },
      "execution_count": 145,
      "outputs": [
        {
          "output_type": "execute_result",
          "data": {
            "text/plain": [
              "        brokered_by   bed  bath  acre_lot          city         state zip_code  house_size  days_since_last_sold     price  price_prediction      MAE\n",
              "1664293    37387.00  0.86 -0.39     -0.01         Ocala       Florida 34472.00       -0.03                 -0.37 228900.00         275060.73 46160.73\n",
              "1520757    52990.00  1.97  0.80     -0.01    Lake Ariel  Pennsylvania 18436.00        0.58                  1.25 379000.00         369814.36  9185.64\n",
              "1528421    16829.00  0.86 -0.39     -0.01  Phoenixville  Pennsylvania 19460.00        0.05                  1.84 325000.00         316487.42  8512.58\n",
              "1875481    60731.00  0.86  0.80     -0.01   Saint Louis      Missouri 63136.00       -0.30                  1.12 124900.00         110271.81 14628.19\n",
              "1797553    79237.00 -1.36 -1.57     -0.01    Des Moines          Iowa 50313.00       -0.41                 -0.26 109000.00         122487.12 13487.12"
            ],
            "text/html": [
              "\n",
              "  <div id=\"df-e4fae0f9-b8e6-46af-8eea-d0959ad2433a\" class=\"colab-df-container\">\n",
              "    <div>\n",
              "<style scoped>\n",
              "    .dataframe tbody tr th:only-of-type {\n",
              "        vertical-align: middle;\n",
              "    }\n",
              "\n",
              "    .dataframe tbody tr th {\n",
              "        vertical-align: top;\n",
              "    }\n",
              "\n",
              "    .dataframe thead th {\n",
              "        text-align: right;\n",
              "    }\n",
              "</style>\n",
              "<table border=\"1\" class=\"dataframe\">\n",
              "  <thead>\n",
              "    <tr style=\"text-align: right;\">\n",
              "      <th></th>\n",
              "      <th>brokered_by</th>\n",
              "      <th>bed</th>\n",
              "      <th>bath</th>\n",
              "      <th>acre_lot</th>\n",
              "      <th>city</th>\n",
              "      <th>state</th>\n",
              "      <th>zip_code</th>\n",
              "      <th>house_size</th>\n",
              "      <th>days_since_last_sold</th>\n",
              "      <th>price</th>\n",
              "      <th>price_prediction</th>\n",
              "      <th>MAE</th>\n",
              "    </tr>\n",
              "  </thead>\n",
              "  <tbody>\n",
              "    <tr>\n",
              "      <th>1664293</th>\n",
              "      <td>37387.00</td>\n",
              "      <td>0.86</td>\n",
              "      <td>-0.39</td>\n",
              "      <td>-0.01</td>\n",
              "      <td>Ocala</td>\n",
              "      <td>Florida</td>\n",
              "      <td>34472.00</td>\n",
              "      <td>-0.03</td>\n",
              "      <td>-0.37</td>\n",
              "      <td>228900.00</td>\n",
              "      <td>275060.73</td>\n",
              "      <td>46160.73</td>\n",
              "    </tr>\n",
              "    <tr>\n",
              "      <th>1520757</th>\n",
              "      <td>52990.00</td>\n",
              "      <td>1.97</td>\n",
              "      <td>0.80</td>\n",
              "      <td>-0.01</td>\n",
              "      <td>Lake Ariel</td>\n",
              "      <td>Pennsylvania</td>\n",
              "      <td>18436.00</td>\n",
              "      <td>0.58</td>\n",
              "      <td>1.25</td>\n",
              "      <td>379000.00</td>\n",
              "      <td>369814.36</td>\n",
              "      <td>9185.64</td>\n",
              "    </tr>\n",
              "    <tr>\n",
              "      <th>1528421</th>\n",
              "      <td>16829.00</td>\n",
              "      <td>0.86</td>\n",
              "      <td>-0.39</td>\n",
              "      <td>-0.01</td>\n",
              "      <td>Phoenixville</td>\n",
              "      <td>Pennsylvania</td>\n",
              "      <td>19460.00</td>\n",
              "      <td>0.05</td>\n",
              "      <td>1.84</td>\n",
              "      <td>325000.00</td>\n",
              "      <td>316487.42</td>\n",
              "      <td>8512.58</td>\n",
              "    </tr>\n",
              "    <tr>\n",
              "      <th>1875481</th>\n",
              "      <td>60731.00</td>\n",
              "      <td>0.86</td>\n",
              "      <td>0.80</td>\n",
              "      <td>-0.01</td>\n",
              "      <td>Saint Louis</td>\n",
              "      <td>Missouri</td>\n",
              "      <td>63136.00</td>\n",
              "      <td>-0.30</td>\n",
              "      <td>1.12</td>\n",
              "      <td>124900.00</td>\n",
              "      <td>110271.81</td>\n",
              "      <td>14628.19</td>\n",
              "    </tr>\n",
              "    <tr>\n",
              "      <th>1797553</th>\n",
              "      <td>79237.00</td>\n",
              "      <td>-1.36</td>\n",
              "      <td>-1.57</td>\n",
              "      <td>-0.01</td>\n",
              "      <td>Des Moines</td>\n",
              "      <td>Iowa</td>\n",
              "      <td>50313.00</td>\n",
              "      <td>-0.41</td>\n",
              "      <td>-0.26</td>\n",
              "      <td>109000.00</td>\n",
              "      <td>122487.12</td>\n",
              "      <td>13487.12</td>\n",
              "    </tr>\n",
              "  </tbody>\n",
              "</table>\n",
              "</div>\n",
              "    <div class=\"colab-df-buttons\">\n",
              "\n",
              "  <div class=\"colab-df-container\">\n",
              "    <button class=\"colab-df-convert\" onclick=\"convertToInteractive('df-e4fae0f9-b8e6-46af-8eea-d0959ad2433a')\"\n",
              "            title=\"Convert this dataframe to an interactive table.\"\n",
              "            style=\"display:none;\">\n",
              "\n",
              "  <svg xmlns=\"http://www.w3.org/2000/svg\" height=\"24px\" viewBox=\"0 -960 960 960\">\n",
              "    <path d=\"M120-120v-720h720v720H120Zm60-500h600v-160H180v160Zm220 220h160v-160H400v160Zm0 220h160v-160H400v160ZM180-400h160v-160H180v160Zm440 0h160v-160H620v160ZM180-180h160v-160H180v160Zm440 0h160v-160H620v160Z\"/>\n",
              "  </svg>\n",
              "    </button>\n",
              "\n",
              "  <style>\n",
              "    .colab-df-container {\n",
              "      display:flex;\n",
              "      gap: 12px;\n",
              "    }\n",
              "\n",
              "    .colab-df-convert {\n",
              "      background-color: #E8F0FE;\n",
              "      border: none;\n",
              "      border-radius: 50%;\n",
              "      cursor: pointer;\n",
              "      display: none;\n",
              "      fill: #1967D2;\n",
              "      height: 32px;\n",
              "      padding: 0 0 0 0;\n",
              "      width: 32px;\n",
              "    }\n",
              "\n",
              "    .colab-df-convert:hover {\n",
              "      background-color: #E2EBFA;\n",
              "      box-shadow: 0px 1px 2px rgba(60, 64, 67, 0.3), 0px 1px 3px 1px rgba(60, 64, 67, 0.15);\n",
              "      fill: #174EA6;\n",
              "    }\n",
              "\n",
              "    .colab-df-buttons div {\n",
              "      margin-bottom: 4px;\n",
              "    }\n",
              "\n",
              "    [theme=dark] .colab-df-convert {\n",
              "      background-color: #3B4455;\n",
              "      fill: #D2E3FC;\n",
              "    }\n",
              "\n",
              "    [theme=dark] .colab-df-convert:hover {\n",
              "      background-color: #434B5C;\n",
              "      box-shadow: 0px 1px 3px 1px rgba(0, 0, 0, 0.15);\n",
              "      filter: drop-shadow(0px 1px 2px rgba(0, 0, 0, 0.3));\n",
              "      fill: #FFFFFF;\n",
              "    }\n",
              "  </style>\n",
              "\n",
              "    <script>\n",
              "      const buttonEl =\n",
              "        document.querySelector('#df-e4fae0f9-b8e6-46af-8eea-d0959ad2433a button.colab-df-convert');\n",
              "      buttonEl.style.display =\n",
              "        google.colab.kernel.accessAllowed ? 'block' : 'none';\n",
              "\n",
              "      async function convertToInteractive(key) {\n",
              "        const element = document.querySelector('#df-e4fae0f9-b8e6-46af-8eea-d0959ad2433a');\n",
              "        const dataTable =\n",
              "          await google.colab.kernel.invokeFunction('convertToInteractive',\n",
              "                                                    [key], {});\n",
              "        if (!dataTable) return;\n",
              "\n",
              "        const docLinkHtml = 'Like what you see? Visit the ' +\n",
              "          '<a target=\"_blank\" href=https://colab.research.google.com/notebooks/data_table.ipynb>data table notebook</a>'\n",
              "          + ' to learn more about interactive tables.';\n",
              "        element.innerHTML = '';\n",
              "        dataTable['output_type'] = 'display_data';\n",
              "        await google.colab.output.renderOutput(dataTable, element);\n",
              "        const docLink = document.createElement('div');\n",
              "        docLink.innerHTML = docLinkHtml;\n",
              "        element.appendChild(docLink);\n",
              "      }\n",
              "    </script>\n",
              "  </div>\n",
              "\n",
              "\n",
              "<div id=\"df-bfb61ab8-30ca-4adf-a1f0-a9ed56044691\">\n",
              "  <button class=\"colab-df-quickchart\" onclick=\"quickchart('df-bfb61ab8-30ca-4adf-a1f0-a9ed56044691')\"\n",
              "            title=\"Suggest charts\"\n",
              "            style=\"display:none;\">\n",
              "\n",
              "<svg xmlns=\"http://www.w3.org/2000/svg\" height=\"24px\"viewBox=\"0 0 24 24\"\n",
              "     width=\"24px\">\n",
              "    <g>\n",
              "        <path d=\"M19 3H5c-1.1 0-2 .9-2 2v14c0 1.1.9 2 2 2h14c1.1 0 2-.9 2-2V5c0-1.1-.9-2-2-2zM9 17H7v-7h2v7zm4 0h-2V7h2v10zm4 0h-2v-4h2v4z\"/>\n",
              "    </g>\n",
              "</svg>\n",
              "  </button>\n",
              "\n",
              "<style>\n",
              "  .colab-df-quickchart {\n",
              "      --bg-color: #E8F0FE;\n",
              "      --fill-color: #1967D2;\n",
              "      --hover-bg-color: #E2EBFA;\n",
              "      --hover-fill-color: #174EA6;\n",
              "      --disabled-fill-color: #AAA;\n",
              "      --disabled-bg-color: #DDD;\n",
              "  }\n",
              "\n",
              "  [theme=dark] .colab-df-quickchart {\n",
              "      --bg-color: #3B4455;\n",
              "      --fill-color: #D2E3FC;\n",
              "      --hover-bg-color: #434B5C;\n",
              "      --hover-fill-color: #FFFFFF;\n",
              "      --disabled-bg-color: #3B4455;\n",
              "      --disabled-fill-color: #666;\n",
              "  }\n",
              "\n",
              "  .colab-df-quickchart {\n",
              "    background-color: var(--bg-color);\n",
              "    border: none;\n",
              "    border-radius: 50%;\n",
              "    cursor: pointer;\n",
              "    display: none;\n",
              "    fill: var(--fill-color);\n",
              "    height: 32px;\n",
              "    padding: 0;\n",
              "    width: 32px;\n",
              "  }\n",
              "\n",
              "  .colab-df-quickchart:hover {\n",
              "    background-color: var(--hover-bg-color);\n",
              "    box-shadow: 0 1px 2px rgba(60, 64, 67, 0.3), 0 1px 3px 1px rgba(60, 64, 67, 0.15);\n",
              "    fill: var(--button-hover-fill-color);\n",
              "  }\n",
              "\n",
              "  .colab-df-quickchart-complete:disabled,\n",
              "  .colab-df-quickchart-complete:disabled:hover {\n",
              "    background-color: var(--disabled-bg-color);\n",
              "    fill: var(--disabled-fill-color);\n",
              "    box-shadow: none;\n",
              "  }\n",
              "\n",
              "  .colab-df-spinner {\n",
              "    border: 2px solid var(--fill-color);\n",
              "    border-color: transparent;\n",
              "    border-bottom-color: var(--fill-color);\n",
              "    animation:\n",
              "      spin 1s steps(1) infinite;\n",
              "  }\n",
              "\n",
              "  @keyframes spin {\n",
              "    0% {\n",
              "      border-color: transparent;\n",
              "      border-bottom-color: var(--fill-color);\n",
              "      border-left-color: var(--fill-color);\n",
              "    }\n",
              "    20% {\n",
              "      border-color: transparent;\n",
              "      border-left-color: var(--fill-color);\n",
              "      border-top-color: var(--fill-color);\n",
              "    }\n",
              "    30% {\n",
              "      border-color: transparent;\n",
              "      border-left-color: var(--fill-color);\n",
              "      border-top-color: var(--fill-color);\n",
              "      border-right-color: var(--fill-color);\n",
              "    }\n",
              "    40% {\n",
              "      border-color: transparent;\n",
              "      border-right-color: var(--fill-color);\n",
              "      border-top-color: var(--fill-color);\n",
              "    }\n",
              "    60% {\n",
              "      border-color: transparent;\n",
              "      border-right-color: var(--fill-color);\n",
              "    }\n",
              "    80% {\n",
              "      border-color: transparent;\n",
              "      border-right-color: var(--fill-color);\n",
              "      border-bottom-color: var(--fill-color);\n",
              "    }\n",
              "    90% {\n",
              "      border-color: transparent;\n",
              "      border-bottom-color: var(--fill-color);\n",
              "    }\n",
              "  }\n",
              "</style>\n",
              "\n",
              "  <script>\n",
              "    async function quickchart(key) {\n",
              "      const quickchartButtonEl =\n",
              "        document.querySelector('#' + key + ' button');\n",
              "      quickchartButtonEl.disabled = true;  // To prevent multiple clicks.\n",
              "      quickchartButtonEl.classList.add('colab-df-spinner');\n",
              "      try {\n",
              "        const charts = await google.colab.kernel.invokeFunction(\n",
              "            'suggestCharts', [key], {});\n",
              "      } catch (error) {\n",
              "        console.error('Error during call to suggestCharts:', error);\n",
              "      }\n",
              "      quickchartButtonEl.classList.remove('colab-df-spinner');\n",
              "      quickchartButtonEl.classList.add('colab-df-quickchart-complete');\n",
              "    }\n",
              "    (() => {\n",
              "      let quickchartButtonEl =\n",
              "        document.querySelector('#df-bfb61ab8-30ca-4adf-a1f0-a9ed56044691 button');\n",
              "      quickchartButtonEl.style.display =\n",
              "        google.colab.kernel.accessAllowed ? 'block' : 'none';\n",
              "    })();\n",
              "  </script>\n",
              "</div>\n",
              "\n",
              "    </div>\n",
              "  </div>\n"
            ],
            "application/vnd.google.colaboratory.intrinsic+json": {
              "type": "dataframe",
              "summary": "{\n  \"name\": \"X_test\",\n  \"rows\": 5,\n  \"fields\": [\n    {\n      \"column\": \"brokered_by\",\n      \"properties\": {\n        \"dtype\": \"category\",\n        \"num_unique_values\": 5,\n        \"samples\": [\n          52990.0,\n          79237.0,\n          16829.0\n        ],\n        \"semantic_type\": \"\",\n        \"description\": \"\"\n      }\n    },\n    {\n      \"column\": \"bed\",\n      \"properties\": {\n        \"dtype\": \"number\",\n        \"std\": 1.2148212003915617,\n        \"min\": -1.3570105068681892,\n        \"max\": 1.9699143670816215,\n        \"num_unique_values\": 3,\n        \"samples\": [\n          0.8609394090983512,\n          1.9699143670816215,\n          -1.3570105068681892\n        ],\n        \"semantic_type\": \"\",\n        \"description\": \"\"\n      }\n    },\n    {\n      \"column\": \"bath\",\n      \"properties\": {\n        \"dtype\": \"number\",\n        \"std\": 0.993603772426157,\n        \"min\": -1.5738123802340396,\n        \"max\": 0.8013549300586067,\n        \"num_unique_values\": 3,\n        \"samples\": [\n          -0.3862287250877164,\n          0.8013549300586067,\n          -1.5738123802340396\n        ],\n        \"semantic_type\": \"\",\n        \"description\": \"\"\n      }\n    },\n    {\n      \"column\": \"acre_lot\",\n      \"properties\": {\n        \"dtype\": \"number\",\n        \"std\": 0.00013537823121275005,\n        \"min\": -0.014624967357000338,\n        \"max\": -0.014342254036739336,\n        \"num_unique_values\": 5,\n        \"samples\": [\n          -0.014379129687208163,\n          -0.014575799823041904,\n          -0.01461267547351073\n        ],\n        \"semantic_type\": \"\",\n        \"description\": \"\"\n      }\n    },\n    {\n      \"column\": \"city\",\n      \"properties\": {\n        \"dtype\": \"category\",\n        \"num_unique_values\": 5,\n        \"samples\": [\n          \"Lake Ariel\",\n          \"Des Moines\",\n          \"Phoenixville\"\n        ],\n        \"semantic_type\": \"\",\n        \"description\": \"\"\n      }\n    },\n    {\n      \"column\": \"state\",\n      \"properties\": {\n        \"dtype\": \"category\",\n        \"num_unique_values\": 4,\n        \"samples\": [\n          \"Pennsylvania\",\n          \"Iowa\",\n          \"Florida\"\n        ],\n        \"semantic_type\": \"\",\n        \"description\": \"\"\n      }\n    },\n    {\n      \"column\": \"zip_code\",\n      \"properties\": {\n        \"dtype\": \"category\",\n        \"num_unique_values\": 5,\n        \"samples\": [\n          18436.0,\n          50313.0,\n          19460.0\n        ],\n        \"semantic_type\": \"\",\n        \"description\": \"\"\n      }\n    },\n    {\n      \"column\": \"house_size\",\n      \"properties\": {\n        \"dtype\": \"number\",\n        \"std\": 0.3873395020445686,\n        \"min\": -0.4125375743633597,\n        \"max\": 0.5805978166310223,\n        \"num_unique_values\": 5,\n        \"samples\": [\n          0.5805978166310223,\n          -0.4125375743633597,\n          0.047316004737847805\n        ],\n        \"semantic_type\": \"\",\n        \"description\": \"\"\n      }\n    },\n    {\n      \"column\": \"days_since_last_sold\",\n      \"properties\": {\n        \"dtype\": \"number\",\n        \"std\": 0.9822519003646331,\n        \"min\": -0.37052102064006875,\n        \"max\": 1.8433064308776148,\n        \"num_unique_values\": 5,\n        \"samples\": [\n          1.2493527243728704,\n          -0.2625294376392061,\n          1.8433064308776148\n        ],\n        \"semantic_type\": \"\",\n        \"description\": \"\"\n      }\n    },\n    {\n      \"column\": \"price\",\n      \"properties\": {\n        \"dtype\": \"number\",\n        \"std\": 119224.3389581171,\n        \"min\": 109000.0,\n        \"max\": 379000.0,\n        \"num_unique_values\": 5,\n        \"samples\": [\n          379000.0,\n          109000.0,\n          325000.0\n        ],\n        \"semantic_type\": \"\",\n        \"description\": \"\"\n      }\n    },\n    {\n      \"column\": \"price_prediction\",\n      \"properties\": {\n        \"dtype\": \"number\",\n        \"std\": 116793.74937831752,\n        \"min\": 110271.80594421302,\n        \"max\": 369814.36065874476,\n        \"num_unique_values\": 5,\n        \"samples\": [\n          369814.36065874476,\n          122487.11811285475,\n          316487.424845458\n        ],\n        \"semantic_type\": \"\",\n        \"description\": \"\"\n      }\n    },\n    {\n      \"column\": \"MAE\",\n      \"properties\": {\n        \"dtype\": \"number\",\n        \"std\": 15745.528340845314,\n        \"min\": 8512.575154541992,\n        \"max\": 46160.732024041296,\n        \"num_unique_values\": 5,\n        \"samples\": [\n          9185.639341255242,\n          13487.118112854747,\n          8512.575154541992\n        ],\n        \"semantic_type\": \"\",\n        \"description\": \"\"\n      }\n    }\n  ]\n}"
            }
          },
          "metadata": {},
          "execution_count": 145
        }
      ]
    },
    {
      "cell_type": "markdown",
      "source": [
        "# 4. Conclusion\n",
        "#####A MAE score of less than \\$50,000 was achieved, meaning on average, **we were able to predict the sale price of a house within $50,000 of its' actual sale price!**\n",
        "\n",
        "#####Specifically, we achieved an R² score of 0.81. Considering the complexity of this problem, the results achieved are noteworthy.\n",
        "\n",
        "---\n",
        "\n",
        "# Thanks for viewing! 😁"
      ],
      "metadata": {
        "id": "RRm9UP7ufjAY"
      }
    }
  ]
}